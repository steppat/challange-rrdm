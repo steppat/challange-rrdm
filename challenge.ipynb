{
  "nbformat": 4,
  "nbformat_minor": 0,
  "metadata": {
    "colab": {
      "name": "challenge.ipynb",
      "version": "0.3.2",
      "provenance": []
    },
    "kernelspec": {
      "name": "python3",
      "display_name": "Python 3"
    }
  },
  "cells": [
    {
      "metadata": {
        "id": "DDL0r_WdBvkH",
        "colab_type": "code",
        "colab": {
          "base_uri": "https://localhost:8080/",
          "height": 343
        },
        "outputId": "7bd697e1-13b3-476e-86ca-eb7d99226dba"
      },
      "cell_type": "code",
      "source": [
        "!pip install seaborn==0.9.0 \n",
        "!pip install matplotlib==1.4.3\n",
        "!pip install duration"
      ],
      "execution_count": 1,
      "outputs": [
        {
          "output_type": "stream",
          "text": [
            "Requirement already satisfied: seaborn==0.9.0 in /usr/local/lib/python3.6/dist-packages (0.9.0)\n",
            "Requirement already satisfied: matplotlib>=1.4.3 in /usr/local/lib/python3.6/dist-packages (from seaborn==0.9.0) (1.4.3)\n",
            "Requirement already satisfied: pandas>=0.15.2 in /usr/local/lib/python3.6/dist-packages (from seaborn==0.9.0) (0.22.0)\n",
            "Requirement already satisfied: scipy>=0.14.0 in /usr/local/lib/python3.6/dist-packages (from seaborn==0.9.0) (1.1.0)\n",
            "Requirement already satisfied: numpy>=1.9.3 in /usr/local/lib/python3.6/dist-packages (from seaborn==0.9.0) (1.14.6)\n",
            "Requirement already satisfied: python-dateutil in /usr/local/lib/python3.6/dist-packages (from matplotlib>=1.4.3->seaborn==0.9.0) (2.5.3)\n",
            "Requirement already satisfied: pyparsing>=1.5.6 in /usr/local/lib/python3.6/dist-packages (from matplotlib>=1.4.3->seaborn==0.9.0) (2.3.0)\n",
            "Requirement already satisfied: pytz in /usr/local/lib/python3.6/dist-packages (from matplotlib>=1.4.3->seaborn==0.9.0) (2018.7)\n",
            "Requirement already satisfied: nose>=0.11.1 in /usr/local/lib/python3.6/dist-packages (from matplotlib>=1.4.3->seaborn==0.9.0) (1.3.7)\n",
            "Requirement already satisfied: six>=1.4 in /usr/local/lib/python3.6/dist-packages (from matplotlib>=1.4.3->seaborn==0.9.0) (1.11.0)\n",
            "Requirement already satisfied: matplotlib==1.4.3 in /usr/local/lib/python3.6/dist-packages (1.4.3)\n",
            "Requirement already satisfied: numpy>=1.6 in /usr/local/lib/python3.6/dist-packages (from matplotlib==1.4.3) (1.14.6)\n",
            "Requirement already satisfied: pytz in /usr/local/lib/python3.6/dist-packages (from matplotlib==1.4.3) (2018.7)\n",
            "Requirement already satisfied: python-dateutil in /usr/local/lib/python3.6/dist-packages (from matplotlib==1.4.3) (2.5.3)\n",
            "Requirement already satisfied: pyparsing>=1.5.6 in /usr/local/lib/python3.6/dist-packages (from matplotlib==1.4.3) (2.3.0)\n",
            "Requirement already satisfied: nose>=0.11.1 in /usr/local/lib/python3.6/dist-packages (from matplotlib==1.4.3) (1.3.7)\n",
            "Requirement already satisfied: six>=1.4 in /usr/local/lib/python3.6/dist-packages (from matplotlib==1.4.3) (1.11.0)\n",
            "Requirement already satisfied: duration in /usr/local/lib/python3.6/dist-packages (1.1.1)\n"
          ],
          "name": "stdout"
        }
      ]
    },
    {
      "metadata": {
        "id": "JYU0zu1FPMzF",
        "colab_type": "code",
        "colab": {}
      },
      "cell_type": "code",
      "source": [
        "import pandas as pd\n",
        "from duration import (\n",
        "    to_seconds\n",
        ")\n",
        "import seaborn as sns\n",
        "import matplotlib.pyplot as plt"
      ],
      "execution_count": 0,
      "outputs": []
    },
    {
      "metadata": {
        "id": "JLdB2ym0B-YO",
        "colab_type": "code",
        "colab": {
          "base_uri": "https://localhost:8080/",
          "height": 34
        },
        "outputId": "f6eb8eaa-f5a2-4221-9448-ce9d1afcf693"
      },
      "cell_type": "code",
      "source": [
        "print(f\"Seaborn {sns.__version__}, Pandas {pd.__version__}\")"
      ],
      "execution_count": 3,
      "outputs": [
        {
          "output_type": "stream",
          "text": [
            "Seaborn 0.9.0, Pandas 0.22.0\n"
          ],
          "name": "stdout"
        }
      ]
    },
    {
      "metadata": {
        "id": "aaHjrTAIPhmo",
        "colab_type": "code",
        "colab": {}
      },
      "cell_type": "code",
      "source": [
        "dfs = pd.read_html('challenge.html')[0]"
      ],
      "execution_count": 0,
      "outputs": []
    },
    {
      "metadata": {
        "id": "qC_PtRtVRBVT",
        "colab_type": "code",
        "colab": {}
      },
      "cell_type": "code",
      "source": [
        "df = dfs.drop(columns=['Nome', 'Clube/ Equipe'])"
      ],
      "execution_count": 0,
      "outputs": []
    },
    {
      "metadata": {
        "id": "PODEAPT0RDCd",
        "colab_type": "code",
        "outputId": "4a2783b9-f6a4-4a26-cd46-eecc450c74a2",
        "colab": {
          "base_uri": "https://localhost:8080/",
          "height": 204
        }
      },
      "cell_type": "code",
      "source": [
        "df.head()"
      ],
      "execution_count": 6,
      "outputs": [
        {
          "output_type": "execute_result",
          "data": {
            "text/html": [
              "<div>\n",
              "<style scoped>\n",
              "    .dataframe tbody tr th:only-of-type {\n",
              "        vertical-align: middle;\n",
              "    }\n",
              "\n",
              "    .dataframe tbody tr th {\n",
              "        vertical-align: top;\n",
              "    }\n",
              "\n",
              "    .dataframe thead th {\n",
              "        text-align: right;\n",
              "    }\n",
              "</style>\n",
              "<table border=\"1\" class=\"dataframe\">\n",
              "  <thead>\n",
              "    <tr style=\"text-align: right;\">\n",
              "      <th></th>\n",
              "      <th>Col</th>\n",
              "      <th>Num</th>\n",
              "      <th>Sx</th>\n",
              "      <th>Cat</th>\n",
              "      <th>Tempo Oficial:</th>\n",
              "      <th>Col.Cat</th>\n",
              "    </tr>\n",
              "  </thead>\n",
              "  <tbody>\n",
              "    <tr>\n",
              "      <th>0</th>\n",
              "      <td>1.0</td>\n",
              "      <td>4442</td>\n",
              "      <td>M</td>\n",
              "      <td>VENC.M</td>\n",
              "      <td>00:52:12</td>\n",
              "      <td>1</td>\n",
              "    </tr>\n",
              "    <tr>\n",
              "      <th>1</th>\n",
              "      <td>2.0</td>\n",
              "      <td>4469</td>\n",
              "      <td>F</td>\n",
              "      <td>VENC.F</td>\n",
              "      <td>00:53:37</td>\n",
              "      <td>1</td>\n",
              "    </tr>\n",
              "    <tr>\n",
              "      <th>2</th>\n",
              "      <td>3.0</td>\n",
              "      <td>4220</td>\n",
              "      <td>M</td>\n",
              "      <td>VENC.M</td>\n",
              "      <td>00:56:14</td>\n",
              "      <td>2</td>\n",
              "    </tr>\n",
              "    <tr>\n",
              "      <th>3</th>\n",
              "      <td>4.0</td>\n",
              "      <td>4246</td>\n",
              "      <td>M</td>\n",
              "      <td>VENC.M</td>\n",
              "      <td>00:58:56</td>\n",
              "      <td>3</td>\n",
              "    </tr>\n",
              "    <tr>\n",
              "      <th>4</th>\n",
              "      <td>5.0</td>\n",
              "      <td>4055</td>\n",
              "      <td>M</td>\n",
              "      <td>M45/49</td>\n",
              "      <td>00:59:24</td>\n",
              "      <td>1</td>\n",
              "    </tr>\n",
              "  </tbody>\n",
              "</table>\n",
              "</div>"
            ],
            "text/plain": [
              "   Col   Num Sx     Cat Tempo Oficial:  Col.Cat\n",
              "0  1.0  4442  M  VENC.M       00:52:12        1\n",
              "1  2.0  4469  F  VENC.F       00:53:37        1\n",
              "2  3.0  4220  M  VENC.M       00:56:14        2\n",
              "3  4.0  4246  M  VENC.M       00:58:56        3\n",
              "4  5.0  4055  M  M45/49       00:59:24        1"
            ]
          },
          "metadata": {
            "tags": []
          },
          "execution_count": 6
        }
      ]
    },
    {
      "metadata": {
        "id": "HMIhzO7BYhG3",
        "colab_type": "code",
        "colab": {}
      },
      "cell_type": "code",
      "source": [
        "time = df.head(1)['Tempo Oficial:'][0]\n",
        "seconds = to_seconds(time, strict=False) # 91405"
      ],
      "execution_count": 0,
      "outputs": []
    },
    {
      "metadata": {
        "id": "GXXo5oY1YvK3",
        "colab_type": "code",
        "outputId": "a5786339-51a8-49f1-b382-168a82595864",
        "colab": {
          "base_uri": "https://localhost:8080/",
          "height": 34
        }
      },
      "cell_type": "code",
      "source": [
        "seconds, time"
      ],
      "execution_count": 8,
      "outputs": [
        {
          "output_type": "execute_result",
          "data": {
            "text/plain": [
              "(3132, '00:52:12')"
            ]
          },
          "metadata": {
            "tags": []
          },
          "execution_count": 8
        }
      ]
    },
    {
      "metadata": {
        "id": "aLpLR_FCZf1l",
        "colab_type": "code",
        "outputId": "aa9812ee-f10f-458b-eca2-2f5e71928711",
        "colab": {
          "base_uri": "https://localhost:8080/",
          "height": 34
        }
      },
      "cell_type": "code",
      "source": [
        "52*60 + 12"
      ],
      "execution_count": 9,
      "outputs": [
        {
          "output_type": "execute_result",
          "data": {
            "text/plain": [
              "3132"
            ]
          },
          "metadata": {
            "tags": []
          },
          "execution_count": 9
        }
      ]
    },
    {
      "metadata": {
        "id": "FGrRQo6FdNMS",
        "colab_type": "code",
        "outputId": "a97cd589-38db-46d7-f2ce-ac10b613a197",
        "colab": {
          "base_uri": "https://localhost:8080/",
          "height": 119
        }
      },
      "cell_type": "code",
      "source": [
        "df['Tempo Oficial:'].head()"
      ],
      "execution_count": 10,
      "outputs": [
        {
          "output_type": "execute_result",
          "data": {
            "text/plain": [
              "0    00:52:12\n",
              "1    00:53:37\n",
              "2    00:56:14\n",
              "3    00:58:56\n",
              "4    00:59:24\n",
              "Name: Tempo Oficial:, dtype: object"
            ]
          },
          "metadata": {
            "tags": []
          },
          "execution_count": 10
        }
      ]
    },
    {
      "metadata": {
        "id": "gQ4CbDI_ZvRz",
        "colab_type": "code",
        "colab": {}
      },
      "cell_type": "code",
      "source": [
        "df['TempoEmSegundos'] = df['Tempo Oficial:'].apply(to_seconds)\n",
        "df['TempoEmSegundos'] = df['TempoEmSegundos'].round(2)"
      ],
      "execution_count": 0,
      "outputs": []
    },
    {
      "metadata": {
        "id": "vN3YURxOfy_L",
        "colab_type": "code",
        "colab": {}
      },
      "cell_type": "code",
      "source": [
        "def to_minutes(seconds):\n",
        "  minutes = seconds // 60\n",
        "  seconds = (seconds - (60 * minutes)) \n",
        "  return minutes + (seconds / 100)\n",
        "  \n",
        "\n",
        "df['TempoEmMinutos'] = df['TempoEmSegundos'].apply(to_minutes)"
      ],
      "execution_count": 0,
      "outputs": []
    },
    {
      "metadata": {
        "id": "D_YzYn1Fmrp5",
        "colab_type": "code",
        "colab": {}
      },
      "cell_type": "code",
      "source": [
        "df = df.drop(columns='Tempo Oficial:')"
      ],
      "execution_count": 0,
      "outputs": []
    },
    {
      "metadata": {
        "id": "SMMUlVyhcwo9",
        "colab_type": "code",
        "outputId": "14bc64c7-51f3-436f-9d2d-8eff4c7b7902",
        "colab": {
          "base_uri": "https://localhost:8080/",
          "height": 204
        }
      },
      "cell_type": "code",
      "source": [
        "df.head()"
      ],
      "execution_count": 14,
      "outputs": [
        {
          "output_type": "execute_result",
          "data": {
            "text/html": [
              "<div>\n",
              "<style scoped>\n",
              "    .dataframe tbody tr th:only-of-type {\n",
              "        vertical-align: middle;\n",
              "    }\n",
              "\n",
              "    .dataframe tbody tr th {\n",
              "        vertical-align: top;\n",
              "    }\n",
              "\n",
              "    .dataframe thead th {\n",
              "        text-align: right;\n",
              "    }\n",
              "</style>\n",
              "<table border=\"1\" class=\"dataframe\">\n",
              "  <thead>\n",
              "    <tr style=\"text-align: right;\">\n",
              "      <th></th>\n",
              "      <th>Col</th>\n",
              "      <th>Num</th>\n",
              "      <th>Sx</th>\n",
              "      <th>Cat</th>\n",
              "      <th>Col.Cat</th>\n",
              "      <th>TempoEmSegundos</th>\n",
              "      <th>TempoEmMinutos</th>\n",
              "    </tr>\n",
              "  </thead>\n",
              "  <tbody>\n",
              "    <tr>\n",
              "      <th>0</th>\n",
              "      <td>1.0</td>\n",
              "      <td>4442</td>\n",
              "      <td>M</td>\n",
              "      <td>VENC.M</td>\n",
              "      <td>1</td>\n",
              "      <td>3132</td>\n",
              "      <td>52.12</td>\n",
              "    </tr>\n",
              "    <tr>\n",
              "      <th>1</th>\n",
              "      <td>2.0</td>\n",
              "      <td>4469</td>\n",
              "      <td>F</td>\n",
              "      <td>VENC.F</td>\n",
              "      <td>1</td>\n",
              "      <td>3217</td>\n",
              "      <td>53.37</td>\n",
              "    </tr>\n",
              "    <tr>\n",
              "      <th>2</th>\n",
              "      <td>3.0</td>\n",
              "      <td>4220</td>\n",
              "      <td>M</td>\n",
              "      <td>VENC.M</td>\n",
              "      <td>2</td>\n",
              "      <td>3374</td>\n",
              "      <td>56.14</td>\n",
              "    </tr>\n",
              "    <tr>\n",
              "      <th>3</th>\n",
              "      <td>4.0</td>\n",
              "      <td>4246</td>\n",
              "      <td>M</td>\n",
              "      <td>VENC.M</td>\n",
              "      <td>3</td>\n",
              "      <td>3536</td>\n",
              "      <td>58.56</td>\n",
              "    </tr>\n",
              "    <tr>\n",
              "      <th>4</th>\n",
              "      <td>5.0</td>\n",
              "      <td>4055</td>\n",
              "      <td>M</td>\n",
              "      <td>M45/49</td>\n",
              "      <td>1</td>\n",
              "      <td>3564</td>\n",
              "      <td>59.24</td>\n",
              "    </tr>\n",
              "  </tbody>\n",
              "</table>\n",
              "</div>"
            ],
            "text/plain": [
              "   Col   Num Sx     Cat  Col.Cat  TempoEmSegundos  TempoEmMinutos\n",
              "0  1.0  4442  M  VENC.M        1             3132           52.12\n",
              "1  2.0  4469  F  VENC.F        1             3217           53.37\n",
              "2  3.0  4220  M  VENC.M        2             3374           56.14\n",
              "3  4.0  4246  M  VENC.M        3             3536           58.56\n",
              "4  5.0  4055  M  M45/49        1             3564           59.24"
            ]
          },
          "metadata": {
            "tags": []
          },
          "execution_count": 14
        }
      ]
    },
    {
      "metadata": {
        "id": "shuq8cNKhFov",
        "colab_type": "text"
      },
      "cell_type": "markdown",
      "source": [
        ""
      ]
    },
    {
      "metadata": {
        "id": "APa6bsnhdofy",
        "colab_type": "code",
        "outputId": "690f3ff1-da10-4bcd-ce7e-585a60107170",
        "colab": {
          "base_uri": "https://localhost:8080/",
          "height": 170
        }
      },
      "cell_type": "code",
      "source": [
        "df['TempoEmSegundos'].describe()"
      ],
      "execution_count": 15,
      "outputs": [
        {
          "output_type": "execute_result",
          "data": {
            "text/plain": [
              "count      509.000000\n",
              "mean      7034.972495\n",
              "std       2770.871975\n",
              "min       3132.000000\n",
              "25%       5367.000000\n",
              "50%       6537.000000\n",
              "75%       8120.000000\n",
              "max      45300.000000\n",
              "Name: TempoEmSegundos, dtype: float64"
            ]
          },
          "metadata": {
            "tags": []
          },
          "execution_count": 15
        }
      ]
    },
    {
      "metadata": {
        "id": "ydnXMZP4nMwC",
        "colab_type": "code",
        "outputId": "498bfc7b-11f3-4fb1-e467-23a95c959b83",
        "colab": {
          "base_uri": "https://localhost:8080/",
          "height": 309
        }
      },
      "cell_type": "code",
      "source": [
        "sns.set_style('darkgrid')\n",
        "sns.distplot(df['TempoEmSegundos'], bins=40)"
      ],
      "execution_count": 16,
      "outputs": [
        {
          "output_type": "execute_result",
          "data": {
            "text/plain": [
              "<matplotlib.axes._subplots.AxesSubplot at 0x7f0b464c2278>"
            ]
          },
          "metadata": {
            "tags": []
          },
          "execution_count": 16
        },
        {
          "output_type": "display_data",
          "data": {
            "image/png": "[encoded data removed]",
            "text/plain": [
              "<matplotlib.figure.Figure at 0x7f0b464d2828>"
            ]
          },
          "metadata": {
            "tags": []
          }
        }
      ]
    },
    {
      "metadata": {
        "id": "cpiP2-sJd0C3",
        "colab_type": "code",
        "outputId": "67f1dc6c-e5f8-4c65-8e02-a5d14932e397",
        "colab": {
          "base_uri": "https://localhost:8080/",
          "height": 294
        }
      },
      "cell_type": "code",
      "source": [
        "fig = sns.boxplot( palette=[\"m\", \"g\"], data=df['TempoEmSegundos'])\n",
        "fig"
      ],
      "execution_count": 17,
      "outputs": [
        {
          "output_type": "execute_result",
          "data": {
            "text/plain": [
              "<matplotlib.axes._subplots.AxesSubplot at 0x7f0b464304e0>"
            ]
          },
          "metadata": {
            "tags": []
          },
          "execution_count": 17
        },
        {
          "output_type": "display_data",
          "data": {
            "image/png": "[encoded data removed]",
            "text/plain": [
              "<matplotlib.figure.Figure at 0x7f0b463fa7b8>"
            ]
          },
          "metadata": {
            "tags": []
          }
        }
      ]
    },
    {
      "metadata": {
        "id": "RYiIMIpqgC6u",
        "colab_type": "code",
        "outputId": "726113ee-c101-4434-fad0-b24ace380353",
        "colab": {
          "base_uri": "https://localhost:8080/",
          "height": 1071
        }
      },
      "cell_type": "code",
      "source": [
        "df['TempoEmSegundos'] > 30000"
      ],
      "execution_count": 18,
      "outputs": [
        {
          "output_type": "execute_result",
          "data": {
            "text/plain": [
              "0      False\n",
              "1      False\n",
              "2      False\n",
              "3      False\n",
              "4      False\n",
              "5      False\n",
              "6      False\n",
              "7      False\n",
              "8      False\n",
              "9      False\n",
              "10     False\n",
              "11     False\n",
              "12     False\n",
              "13     False\n",
              "14     False\n",
              "15     False\n",
              "16     False\n",
              "17     False\n",
              "18     False\n",
              "19     False\n",
              "20     False\n",
              "21     False\n",
              "22     False\n",
              "23     False\n",
              "24     False\n",
              "25     False\n",
              "26     False\n",
              "27     False\n",
              "28     False\n",
              "29     False\n",
              "       ...  \n",
              "479    False\n",
              "480    False\n",
              "481    False\n",
              "482    False\n",
              "483    False\n",
              "484    False\n",
              "485    False\n",
              "486    False\n",
              "487    False\n",
              "488    False\n",
              "489    False\n",
              "490    False\n",
              "491    False\n",
              "492    False\n",
              "493    False\n",
              "494    False\n",
              "495    False\n",
              "496    False\n",
              "497    False\n",
              "498    False\n",
              "499    False\n",
              "500    False\n",
              "501    False\n",
              "502    False\n",
              "503    False\n",
              "504    False\n",
              "505    False\n",
              "506    False\n",
              "507    False\n",
              "508     True\n",
              "Name: TempoEmSegundos, Length: 509, dtype: bool"
            ]
          },
          "metadata": {
            "tags": []
          },
          "execution_count": 18
        }
      ]
    },
    {
      "metadata": {
        "id": "0bxRRwLKgsTh",
        "colab_type": "code",
        "outputId": "45a3c4eb-b7bb-4d7c-ec31-8082d2f80691",
        "colab": {
          "base_uri": "https://localhost:8080/",
          "height": 204
        }
      },
      "cell_type": "code",
      "source": [
        "df.tail()"
      ],
      "execution_count": 19,
      "outputs": [
        {
          "output_type": "execute_result",
          "data": {
            "text/html": [
              "<div>\n",
              "<style scoped>\n",
              "    .dataframe tbody tr th:only-of-type {\n",
              "        vertical-align: middle;\n",
              "    }\n",
              "\n",
              "    .dataframe tbody tr th {\n",
              "        vertical-align: top;\n",
              "    }\n",
              "\n",
              "    .dataframe thead th {\n",
              "        text-align: right;\n",
              "    }\n",
              "</style>\n",
              "<table border=\"1\" class=\"dataframe\">\n",
              "  <thead>\n",
              "    <tr style=\"text-align: right;\">\n",
              "      <th></th>\n",
              "      <th>Col</th>\n",
              "      <th>Num</th>\n",
              "      <th>Sx</th>\n",
              "      <th>Cat</th>\n",
              "      <th>Col.Cat</th>\n",
              "      <th>TempoEmSegundos</th>\n",
              "      <th>TempoEmMinutos</th>\n",
              "    </tr>\n",
              "  </thead>\n",
              "  <tbody>\n",
              "    <tr>\n",
              "      <th>504</th>\n",
              "      <td>505.0</td>\n",
              "      <td>4288</td>\n",
              "      <td>F</td>\n",
              "      <td>F35/39</td>\n",
              "      <td>26</td>\n",
              "      <td>14793</td>\n",
              "      <td>246.33</td>\n",
              "    </tr>\n",
              "    <tr>\n",
              "      <th>505</th>\n",
              "      <td>506.0</td>\n",
              "      <td>4569</td>\n",
              "      <td>F</td>\n",
              "      <td>F40/44</td>\n",
              "      <td>16</td>\n",
              "      <td>14972</td>\n",
              "      <td>249.32</td>\n",
              "    </tr>\n",
              "    <tr>\n",
              "      <th>506</th>\n",
              "      <td>507.0</td>\n",
              "      <td>4587</td>\n",
              "      <td>F</td>\n",
              "      <td>F50/54</td>\n",
              "      <td>14</td>\n",
              "      <td>15431</td>\n",
              "      <td>257.11</td>\n",
              "    </tr>\n",
              "    <tr>\n",
              "      <th>507</th>\n",
              "      <td>508.0</td>\n",
              "      <td>4135</td>\n",
              "      <td>M</td>\n",
              "      <td>M35/39</td>\n",
              "      <td>68</td>\n",
              "      <td>15995</td>\n",
              "      <td>266.35</td>\n",
              "    </tr>\n",
              "    <tr>\n",
              "      <th>508</th>\n",
              "      <td>509.0</td>\n",
              "      <td>4205</td>\n",
              "      <td>M</td>\n",
              "      <td>M50/54</td>\n",
              "      <td>42</td>\n",
              "      <td>45300</td>\n",
              "      <td>755.00</td>\n",
              "    </tr>\n",
              "  </tbody>\n",
              "</table>\n",
              "</div>"
            ],
            "text/plain": [
              "       Col   Num Sx     Cat  Col.Cat  TempoEmSegundos  TempoEmMinutos\n",
              "504  505.0  4288  F  F35/39       26            14793          246.33\n",
              "505  506.0  4569  F  F40/44       16            14972          249.32\n",
              "506  507.0  4587  F  F50/54       14            15431          257.11\n",
              "507  508.0  4135  M  M35/39       68            15995          266.35\n",
              "508  509.0  4205  M  M50/54       42            45300          755.00"
            ]
          },
          "metadata": {
            "tags": []
          },
          "execution_count": 19
        }
      ]
    },
    {
      "metadata": {
        "id": "1k86mHHFgz8i",
        "colab_type": "code",
        "colab": {}
      },
      "cell_type": "code",
      "source": [
        "df = df.drop([508])"
      ],
      "execution_count": 0,
      "outputs": []
    },
    {
      "metadata": {
        "id": "z6lPxmwLhI4t",
        "colab_type": "code",
        "outputId": "ea604aa1-b1f7-413c-883d-744fd9a80a68",
        "colab": {
          "base_uri": "https://localhost:8080/",
          "height": 669
        }
      },
      "cell_type": "code",
      "source": [
        "df.tail(20)"
      ],
      "execution_count": 21,
      "outputs": [
        {
          "output_type": "execute_result",
          "data": {
            "text/html": [
              "<div>\n",
              "<style scoped>\n",
              "    .dataframe tbody tr th:only-of-type {\n",
              "        vertical-align: middle;\n",
              "    }\n",
              "\n",
              "    .dataframe tbody tr th {\n",
              "        vertical-align: top;\n",
              "    }\n",
              "\n",
              "    .dataframe thead th {\n",
              "        text-align: right;\n",
              "    }\n",
              "</style>\n",
              "<table border=\"1\" class=\"dataframe\">\n",
              "  <thead>\n",
              "    <tr style=\"text-align: right;\">\n",
              "      <th></th>\n",
              "      <th>Col</th>\n",
              "      <th>Num</th>\n",
              "      <th>Sx</th>\n",
              "      <th>Cat</th>\n",
              "      <th>Col.Cat</th>\n",
              "      <th>TempoEmSegundos</th>\n",
              "      <th>TempoEmMinutos</th>\n",
              "    </tr>\n",
              "  </thead>\n",
              "  <tbody>\n",
              "    <tr>\n",
              "      <th>488</th>\n",
              "      <td>489.0</td>\n",
              "      <td>4466</td>\n",
              "      <td>F</td>\n",
              "      <td>F55/59</td>\n",
              "      <td>15</td>\n",
              "      <td>11397</td>\n",
              "      <td>189.57</td>\n",
              "    </tr>\n",
              "    <tr>\n",
              "      <th>489</th>\n",
              "      <td>490.0</td>\n",
              "      <td>4611</td>\n",
              "      <td>M</td>\n",
              "      <td>M25/29</td>\n",
              "      <td>21</td>\n",
              "      <td>11537</td>\n",
              "      <td>192.17</td>\n",
              "    </tr>\n",
              "    <tr>\n",
              "      <th>490</th>\n",
              "      <td>491.0</td>\n",
              "      <td>4162</td>\n",
              "      <td>M</td>\n",
              "      <td>M35/39</td>\n",
              "      <td>66</td>\n",
              "      <td>11655</td>\n",
              "      <td>194.15</td>\n",
              "    </tr>\n",
              "    <tr>\n",
              "      <th>491</th>\n",
              "      <td>492.0</td>\n",
              "      <td>4134</td>\n",
              "      <td>M</td>\n",
              "      <td>M40/44</td>\n",
              "      <td>63</td>\n",
              "      <td>11795</td>\n",
              "      <td>196.35</td>\n",
              "    </tr>\n",
              "    <tr>\n",
              "      <th>492</th>\n",
              "      <td>493.0</td>\n",
              "      <td>4142</td>\n",
              "      <td>M</td>\n",
              "      <td>M25/29</td>\n",
              "      <td>22</td>\n",
              "      <td>11802</td>\n",
              "      <td>196.42</td>\n",
              "    </tr>\n",
              "    <tr>\n",
              "      <th>493</th>\n",
              "      <td>494.0</td>\n",
              "      <td>4621</td>\n",
              "      <td>F</td>\n",
              "      <td>F60/64</td>\n",
              "      <td>3</td>\n",
              "      <td>11936</td>\n",
              "      <td>198.56</td>\n",
              "    </tr>\n",
              "    <tr>\n",
              "      <th>494</th>\n",
              "      <td>495.0</td>\n",
              "      <td>4520</td>\n",
              "      <td>M</td>\n",
              "      <td>M17/19</td>\n",
              "      <td>7</td>\n",
              "      <td>12055</td>\n",
              "      <td>200.55</td>\n",
              "    </tr>\n",
              "    <tr>\n",
              "      <th>495</th>\n",
              "      <td>496.0</td>\n",
              "      <td>4406</td>\n",
              "      <td>M</td>\n",
              "      <td>M60/64</td>\n",
              "      <td>9</td>\n",
              "      <td>12070</td>\n",
              "      <td>201.10</td>\n",
              "    </tr>\n",
              "    <tr>\n",
              "      <th>496</th>\n",
              "      <td>497.0</td>\n",
              "      <td>4622</td>\n",
              "      <td>F</td>\n",
              "      <td>F35/39</td>\n",
              "      <td>25</td>\n",
              "      <td>12117</td>\n",
              "      <td>201.57</td>\n",
              "    </tr>\n",
              "    <tr>\n",
              "      <th>497</th>\n",
              "      <td>498.0</td>\n",
              "      <td>4616</td>\n",
              "      <td>M</td>\n",
              "      <td>M55/59</td>\n",
              "      <td>29</td>\n",
              "      <td>12194</td>\n",
              "      <td>203.14</td>\n",
              "    </tr>\n",
              "    <tr>\n",
              "      <th>498</th>\n",
              "      <td>499.0</td>\n",
              "      <td>4093</td>\n",
              "      <td>M</td>\n",
              "      <td>M45/49</td>\n",
              "      <td>65</td>\n",
              "      <td>12274</td>\n",
              "      <td>204.34</td>\n",
              "    </tr>\n",
              "    <tr>\n",
              "      <th>499</th>\n",
              "      <td>500.0</td>\n",
              "      <td>4145</td>\n",
              "      <td>F</td>\n",
              "      <td>F45/49</td>\n",
              "      <td>19</td>\n",
              "      <td>12710</td>\n",
              "      <td>211.50</td>\n",
              "    </tr>\n",
              "    <tr>\n",
              "      <th>500</th>\n",
              "      <td>501.0</td>\n",
              "      <td>4456</td>\n",
              "      <td>M</td>\n",
              "      <td>M30/34</td>\n",
              "      <td>49</td>\n",
              "      <td>12800</td>\n",
              "      <td>213.20</td>\n",
              "    </tr>\n",
              "    <tr>\n",
              "      <th>501</th>\n",
              "      <td>502.0</td>\n",
              "      <td>4450</td>\n",
              "      <td>M</td>\n",
              "      <td>M40/44</td>\n",
              "      <td>64</td>\n",
              "      <td>12890</td>\n",
              "      <td>214.50</td>\n",
              "    </tr>\n",
              "    <tr>\n",
              "      <th>502</th>\n",
              "      <td>503.0</td>\n",
              "      <td>4295</td>\n",
              "      <td>M</td>\n",
              "      <td>M35/39</td>\n",
              "      <td>67</td>\n",
              "      <td>14207</td>\n",
              "      <td>236.47</td>\n",
              "    </tr>\n",
              "    <tr>\n",
              "      <th>503</th>\n",
              "      <td>504.0</td>\n",
              "      <td>4361</td>\n",
              "      <td>M</td>\n",
              "      <td>M14/16</td>\n",
              "      <td>5</td>\n",
              "      <td>14421</td>\n",
              "      <td>240.21</td>\n",
              "    </tr>\n",
              "    <tr>\n",
              "      <th>504</th>\n",
              "      <td>505.0</td>\n",
              "      <td>4288</td>\n",
              "      <td>F</td>\n",
              "      <td>F35/39</td>\n",
              "      <td>26</td>\n",
              "      <td>14793</td>\n",
              "      <td>246.33</td>\n",
              "    </tr>\n",
              "    <tr>\n",
              "      <th>505</th>\n",
              "      <td>506.0</td>\n",
              "      <td>4569</td>\n",
              "      <td>F</td>\n",
              "      <td>F40/44</td>\n",
              "      <td>16</td>\n",
              "      <td>14972</td>\n",
              "      <td>249.32</td>\n",
              "    </tr>\n",
              "    <tr>\n",
              "      <th>506</th>\n",
              "      <td>507.0</td>\n",
              "      <td>4587</td>\n",
              "      <td>F</td>\n",
              "      <td>F50/54</td>\n",
              "      <td>14</td>\n",
              "      <td>15431</td>\n",
              "      <td>257.11</td>\n",
              "    </tr>\n",
              "    <tr>\n",
              "      <th>507</th>\n",
              "      <td>508.0</td>\n",
              "      <td>4135</td>\n",
              "      <td>M</td>\n",
              "      <td>M35/39</td>\n",
              "      <td>68</td>\n",
              "      <td>15995</td>\n",
              "      <td>266.35</td>\n",
              "    </tr>\n",
              "  </tbody>\n",
              "</table>\n",
              "</div>"
            ],
            "text/plain": [
              "       Col   Num Sx     Cat  Col.Cat  TempoEmSegundos  TempoEmMinutos\n",
              "488  489.0  4466  F  F55/59       15            11397          189.57\n",
              "489  490.0  4611  M  M25/29       21            11537          192.17\n",
              "490  491.0  4162  M  M35/39       66            11655          194.15\n",
              "491  492.0  4134  M  M40/44       63            11795          196.35\n",
              "492  493.0  4142  M  M25/29       22            11802          196.42\n",
              "493  494.0  4621  F  F60/64        3            11936          198.56\n",
              "494  495.0  4520  M  M17/19        7            12055          200.55\n",
              "495  496.0  4406  M  M60/64        9            12070          201.10\n",
              "496  497.0  4622  F  F35/39       25            12117          201.57\n",
              "497  498.0  4616  M  M55/59       29            12194          203.14\n",
              "498  499.0  4093  M  M45/49       65            12274          204.34\n",
              "499  500.0  4145  F  F45/49       19            12710          211.50\n",
              "500  501.0  4456  M  M30/34       49            12800          213.20\n",
              "501  502.0  4450  M  M40/44       64            12890          214.50\n",
              "502  503.0  4295  M  M35/39       67            14207          236.47\n",
              "503  504.0  4361  M  M14/16        5            14421          240.21\n",
              "504  505.0  4288  F  F35/39       26            14793          246.33\n",
              "505  506.0  4569  F  F40/44       16            14972          249.32\n",
              "506  507.0  4587  F  F50/54       14            15431          257.11\n",
              "507  508.0  4135  M  M35/39       68            15995          266.35"
            ]
          },
          "metadata": {
            "tags": []
          },
          "execution_count": 21
        }
      ]
    },
    {
      "metadata": {
        "id": "T40LlJNEhXCk",
        "colab_type": "code",
        "colab": {}
      },
      "cell_type": "code",
      "source": [
        "df_fem = df[df['Sx'] == 'F']\n",
        "df_fem = df_fem.reset_index()\n",
        "\n",
        "df_mas = df[df['Sx'] == 'M']\n",
        "df_mas = df_mas.reset_index()"
      ],
      "execution_count": 0,
      "outputs": []
    },
    {
      "metadata": {
        "id": "Mi8Qf9B1j0pL",
        "colab_type": "code",
        "outputId": "a6282962-9d13-408f-edb7-a55f25aa9668",
        "colab": {
          "base_uri": "https://localhost:8080/",
          "height": 204
        }
      },
      "cell_type": "code",
      "source": [
        "df_fem.tail()"
      ],
      "execution_count": 23,
      "outputs": [
        {
          "output_type": "execute_result",
          "data": {
            "text/html": [
              "<div>\n",
              "<style scoped>\n",
              "    .dataframe tbody tr th:only-of-type {\n",
              "        vertical-align: middle;\n",
              "    }\n",
              "\n",
              "    .dataframe tbody tr th {\n",
              "        vertical-align: top;\n",
              "    }\n",
              "\n",
              "    .dataframe thead th {\n",
              "        text-align: right;\n",
              "    }\n",
              "</style>\n",
              "<table border=\"1\" class=\"dataframe\">\n",
              "  <thead>\n",
              "    <tr style=\"text-align: right;\">\n",
              "      <th></th>\n",
              "      <th>index</th>\n",
              "      <th>Col</th>\n",
              "      <th>Num</th>\n",
              "      <th>Sx</th>\n",
              "      <th>Cat</th>\n",
              "      <th>Col.Cat</th>\n",
              "      <th>TempoEmSegundos</th>\n",
              "      <th>TempoEmMinutos</th>\n",
              "    </tr>\n",
              "  </thead>\n",
              "  <tbody>\n",
              "    <tr>\n",
              "      <th>126</th>\n",
              "      <td>496</td>\n",
              "      <td>497.0</td>\n",
              "      <td>4622</td>\n",
              "      <td>F</td>\n",
              "      <td>F35/39</td>\n",
              "      <td>25</td>\n",
              "      <td>12117</td>\n",
              "      <td>201.57</td>\n",
              "    </tr>\n",
              "    <tr>\n",
              "      <th>127</th>\n",
              "      <td>499</td>\n",
              "      <td>500.0</td>\n",
              "      <td>4145</td>\n",
              "      <td>F</td>\n",
              "      <td>F45/49</td>\n",
              "      <td>19</td>\n",
              "      <td>12710</td>\n",
              "      <td>211.50</td>\n",
              "    </tr>\n",
              "    <tr>\n",
              "      <th>128</th>\n",
              "      <td>504</td>\n",
              "      <td>505.0</td>\n",
              "      <td>4288</td>\n",
              "      <td>F</td>\n",
              "      <td>F35/39</td>\n",
              "      <td>26</td>\n",
              "      <td>14793</td>\n",
              "      <td>246.33</td>\n",
              "    </tr>\n",
              "    <tr>\n",
              "      <th>129</th>\n",
              "      <td>505</td>\n",
              "      <td>506.0</td>\n",
              "      <td>4569</td>\n",
              "      <td>F</td>\n",
              "      <td>F40/44</td>\n",
              "      <td>16</td>\n",
              "      <td>14972</td>\n",
              "      <td>249.32</td>\n",
              "    </tr>\n",
              "    <tr>\n",
              "      <th>130</th>\n",
              "      <td>506</td>\n",
              "      <td>507.0</td>\n",
              "      <td>4587</td>\n",
              "      <td>F</td>\n",
              "      <td>F50/54</td>\n",
              "      <td>14</td>\n",
              "      <td>15431</td>\n",
              "      <td>257.11</td>\n",
              "    </tr>\n",
              "  </tbody>\n",
              "</table>\n",
              "</div>"
            ],
            "text/plain": [
              "     index    Col   Num Sx     Cat  Col.Cat  TempoEmSegundos  TempoEmMinutos\n",
              "126    496  497.0  4622  F  F35/39       25            12117          201.57\n",
              "127    499  500.0  4145  F  F45/49       19            12710          211.50\n",
              "128    504  505.0  4288  F  F35/39       26            14793          246.33\n",
              "129    505  506.0  4569  F  F40/44       16            14972          249.32\n",
              "130    506  507.0  4587  F  F50/54       14            15431          257.11"
            ]
          },
          "metadata": {
            "tags": []
          },
          "execution_count": 23
        }
      ]
    },
    {
      "metadata": {
        "id": "3LdVD5SEjFil",
        "colab_type": "code",
        "outputId": "9398b93a-af8e-4a58-fb3e-36c2ff814cd6",
        "colab": {
          "base_uri": "https://localhost:8080/",
          "height": 294
        }
      },
      "cell_type": "code",
      "source": [
        "sns.boxplot(palette=[\"m\", \"g\"], data=df_fem['TempoEmMinutos'])"
      ],
      "execution_count": 24,
      "outputs": [
        {
          "output_type": "execute_result",
          "data": {
            "text/plain": [
              "<matplotlib.axes._subplots.AxesSubplot at 0x7f0b4688c4e0>"
            ]
          },
          "metadata": {
            "tags": []
          },
          "execution_count": 24
        },
        {
          "output_type": "display_data",
          "data": {
            "image/png": "[encoded data removed]",
            "text/plain": [
              "<matplotlib.figure.Figure at 0x7f0b46470ef0>"
            ]
          },
          "metadata": {
            "tags": []
          }
        }
      ]
    },
    {
      "metadata": {
        "id": "nhPoInJFhif1",
        "colab_type": "code",
        "outputId": "9e99102f-c6b6-4de0-e2ce-28ff72d65f4b",
        "colab": {
          "base_uri": "https://localhost:8080/",
          "height": 309
        }
      },
      "cell_type": "code",
      "source": [
        "sns.set_style('darkgrid')\n",
        "sns.distplot(df_mas['TempoEmMinutos'], bins=40)"
      ],
      "execution_count": 25,
      "outputs": [
        {
          "output_type": "execute_result",
          "data": {
            "text/plain": [
              "<matplotlib.axes._subplots.AxesSubplot at 0x7f0b43b19da0>"
            ]
          },
          "metadata": {
            "tags": []
          },
          "execution_count": 25
        },
        {
          "output_type": "display_data",
          "data": {
            "image/png": "[encoded data removed]",
            "text/plain": [
              "<matplotlib.figure.Figure at 0x7f0b43aa9cf8>"
            ]
          },
          "metadata": {
            "tags": []
          }
        }
      ]
    },
    {
      "metadata": {
        "id": "WTw43lRNkdDa",
        "colab_type": "code",
        "outputId": "f0b903c1-3743-4f72-af31-c70fb7884ab0",
        "colab": {
          "base_uri": "https://localhost:8080/",
          "height": 810
        }
      },
      "cell_type": "code",
      "source": [
        "cats = sorted(list(df_fem['Cat'].unique()))\n",
        "f, ax = plt.subplots(figsize=(12, 6))\n",
        "plot = sns.catplot(x=\"Cat\", y=\"TempoEmSegundos\", kind=\"swarm\", order=cats, data=df_fem, ax=ax)\n",
        "plot"
      ],
      "execution_count": 26,
      "outputs": [
        {
          "output_type": "execute_result",
          "data": {
            "text/plain": [
              "<seaborn.axisgrid.FacetGrid at 0x7f0b43862128>"
            ]
          },
          "metadata": {
            "tags": []
          },
          "execution_count": 26
        },
        {
          "output_type": "stream",
          "text": [
            "/usr/local/lib/python3.6/dist-packages/matplotlib/collections.py:590: FutureWarning: elementwise comparison failed; returning scalar instead, but in the future will perform elementwise comparison\n",
            "  if self._edgecolors == str('face'):\n"
          ],
          "name": "stderr"
        },
        {
          "output_type": "display_data",
          "data": {
            "image/png": "[encoded data removed]",
            "text/plain": [
              "<matplotlib.figure.Figure at 0x7f0b468d0908>"
            ]
          },
          "metadata": {
            "tags": []
          }
        },
        {
          "output_type": "display_data",
          "data": {
            "image/png": "[encoded data removed]",
            "text/plain": [
              "<matplotlib.figure.Figure at 0x7f0b43862198>"
            ]
          },
          "metadata": {
            "tags": []
          }
        }
      ]
    },
    {
      "metadata": {
        "id": "NBzscZTSpA3H",
        "colab_type": "code",
        "outputId": "2f183fe4-9cac-4f02-8615-36cb8b78a12b",
        "colab": {
          "base_uri": "https://localhost:8080/",
          "height": 204
        }
      },
      "cell_type": "code",
      "source": [
        "df_mas.head()"
      ],
      "execution_count": 27,
      "outputs": [
        {
          "output_type": "execute_result",
          "data": {
            "text/html": [
              "<div>\n",
              "<style scoped>\n",
              "    .dataframe tbody tr th:only-of-type {\n",
              "        vertical-align: middle;\n",
              "    }\n",
              "\n",
              "    .dataframe tbody tr th {\n",
              "        vertical-align: top;\n",
              "    }\n",
              "\n",
              "    .dataframe thead th {\n",
              "        text-align: right;\n",
              "    }\n",
              "</style>\n",
              "<table border=\"1\" class=\"dataframe\">\n",
              "  <thead>\n",
              "    <tr style=\"text-align: right;\">\n",
              "      <th></th>\n",
              "      <th>index</th>\n",
              "      <th>Col</th>\n",
              "      <th>Num</th>\n",
              "      <th>Sx</th>\n",
              "      <th>Cat</th>\n",
              "      <th>Col.Cat</th>\n",
              "      <th>TempoEmSegundos</th>\n",
              "      <th>TempoEmMinutos</th>\n",
              "    </tr>\n",
              "  </thead>\n",
              "  <tbody>\n",
              "    <tr>\n",
              "      <th>0</th>\n",
              "      <td>0</td>\n",
              "      <td>1.0</td>\n",
              "      <td>4442</td>\n",
              "      <td>M</td>\n",
              "      <td>VENC.M</td>\n",
              "      <td>1</td>\n",
              "      <td>3132</td>\n",
              "      <td>52.12</td>\n",
              "    </tr>\n",
              "    <tr>\n",
              "      <th>1</th>\n",
              "      <td>2</td>\n",
              "      <td>3.0</td>\n",
              "      <td>4220</td>\n",
              "      <td>M</td>\n",
              "      <td>VENC.M</td>\n",
              "      <td>2</td>\n",
              "      <td>3374</td>\n",
              "      <td>56.14</td>\n",
              "    </tr>\n",
              "    <tr>\n",
              "      <th>2</th>\n",
              "      <td>3</td>\n",
              "      <td>4.0</td>\n",
              "      <td>4246</td>\n",
              "      <td>M</td>\n",
              "      <td>VENC.M</td>\n",
              "      <td>3</td>\n",
              "      <td>3536</td>\n",
              "      <td>58.56</td>\n",
              "    </tr>\n",
              "    <tr>\n",
              "      <th>3</th>\n",
              "      <td>4</td>\n",
              "      <td>5.0</td>\n",
              "      <td>4055</td>\n",
              "      <td>M</td>\n",
              "      <td>M45/49</td>\n",
              "      <td>1</td>\n",
              "      <td>3564</td>\n",
              "      <td>59.24</td>\n",
              "    </tr>\n",
              "    <tr>\n",
              "      <th>4</th>\n",
              "      <td>5</td>\n",
              "      <td>6.0</td>\n",
              "      <td>4120</td>\n",
              "      <td>M</td>\n",
              "      <td>M20/24</td>\n",
              "      <td>1</td>\n",
              "      <td>3568</td>\n",
              "      <td>59.28</td>\n",
              "    </tr>\n",
              "  </tbody>\n",
              "</table>\n",
              "</div>"
            ],
            "text/plain": [
              "   index  Col   Num Sx     Cat  Col.Cat  TempoEmSegundos  TempoEmMinutos\n",
              "0      0  1.0  4442  M  VENC.M        1             3132           52.12\n",
              "1      2  3.0  4220  M  VENC.M        2             3374           56.14\n",
              "2      3  4.0  4246  M  VENC.M        3             3536           58.56\n",
              "3      4  5.0  4055  M  M45/49        1             3564           59.24\n",
              "4      5  6.0  4120  M  M20/24        1             3568           59.28"
            ]
          },
          "metadata": {
            "tags": []
          },
          "execution_count": 27
        }
      ]
    },
    {
      "metadata": {
        "id": "hclWEVg7iFFV",
        "colab_type": "code",
        "outputId": "b898054e-08ac-4030-92a5-3d2d69463c33",
        "colab": {
          "base_uri": "https://localhost:8080/",
          "height": 810
        }
      },
      "cell_type": "code",
      "source": [
        "cats = sorted(list(df_mas['Cat'].unique()))\n",
        "\n",
        "f, ax = plt.subplots(figsize=(12,6))\n",
        "plot = sns.catplot(x=\"Cat\", y=\"TempoEmMinutos\", kind=\"swarm\", order=cats, data=df_mas, ax=ax)\n",
        "plot.set_xlabels(\"Categoria\")\n",
        "plot"
      ],
      "execution_count": 28,
      "outputs": [
        {
          "output_type": "execute_result",
          "data": {
            "text/plain": [
              "<seaborn.axisgrid.FacetGrid at 0x7f0b4367db70>"
            ]
          },
          "metadata": {
            "tags": []
          },
          "execution_count": 28
        },
        {
          "output_type": "stream",
          "text": [
            "/usr/local/lib/python3.6/dist-packages/matplotlib/collections.py:590: FutureWarning: elementwise comparison failed; returning scalar instead, but in the future will perform elementwise comparison\n",
            "  if self._edgecolors == str('face'):\n"
          ],
          "name": "stderr"
        },
        {
          "output_type": "display_data",
          "data": {
            "image/png": "[encoded data removed]",
            "text/plain": [
              "<matplotlib.figure.Figure at 0x7f0b437a4a58>"
            ]
          },
          "metadata": {
            "tags": []
          }
        },
        {
          "output_type": "display_data",
          "data": {
            "image/png": "[encoded data removed]",
            "text/plain": [
              "<matplotlib.figure.Figure at 0x7f0b4367da90>"
            ]
          },
          "metadata": {
            "tags": []
          }
        }
      ]
    },
    {
      "metadata": {
        "id": "DheUA5WuAFOd",
        "colab_type": "code",
        "colab": {}
      },
      "cell_type": "code",
      "source": [
        "df_mas['Categoria'] = df_mas['Cat'].apply(lambda s: s if s.startswith('V') else s[1:])\n",
        "df_fem['Categoria'] = df_fem['Cat'].apply(lambda s: s if s.startswith('V') else s[1:])"
      ],
      "execution_count": 0,
      "outputs": []
    },
    {
      "metadata": {
        "id": "7f_gVAkqr1WR",
        "colab_type": "code",
        "colab": {
          "base_uri": "https://localhost:8080/",
          "height": 545
        },
        "outputId": "e1e616b7-c608-436e-f948-d25b3889dd6d"
      },
      "cell_type": "code",
      "source": [
        "challange_mas_grouped = df_mas.groupby(['Categoria']).agg({'TempoEmMinutos': ['size','mean']})\n",
        "challange_fem_grouped = df_fem.groupby(['Categoria']).agg({'TempoEmMinutos': ['size','mean']})\n",
        "challange_mas_grouped"
      ],
      "execution_count": 30,
      "outputs": [
        {
          "output_type": "execute_result",
          "data": {
            "text/html": [
              "<div>\n",
              "<style scoped>\n",
              "    .dataframe tbody tr th:only-of-type {\n",
              "        vertical-align: middle;\n",
              "    }\n",
              "\n",
              "    .dataframe tbody tr th {\n",
              "        vertical-align: top;\n",
              "    }\n",
              "\n",
              "    .dataframe thead tr th {\n",
              "        text-align: left;\n",
              "    }\n",
              "\n",
              "    .dataframe thead tr:last-of-type th {\n",
              "        text-align: right;\n",
              "    }\n",
              "</style>\n",
              "<table border=\"1\" class=\"dataframe\">\n",
              "  <thead>\n",
              "    <tr>\n",
              "      <th></th>\n",
              "      <th colspan=\"2\" halign=\"left\">TempoEmMinutos</th>\n",
              "    </tr>\n",
              "    <tr>\n",
              "      <th></th>\n",
              "      <th>size</th>\n",
              "      <th>mean</th>\n",
              "    </tr>\n",
              "    <tr>\n",
              "      <th>Categoria</th>\n",
              "      <th></th>\n",
              "      <th></th>\n",
              "    </tr>\n",
              "  </thead>\n",
              "  <tbody>\n",
              "    <tr>\n",
              "      <th>14/16</th>\n",
              "      <td>5</td>\n",
              "      <td>119.436000</td>\n",
              "    </tr>\n",
              "    <tr>\n",
              "      <th>17/19</th>\n",
              "      <td>7</td>\n",
              "      <td>106.954286</td>\n",
              "    </tr>\n",
              "    <tr>\n",
              "      <th>20/24</th>\n",
              "      <td>7</td>\n",
              "      <td>96.158571</td>\n",
              "    </tr>\n",
              "    <tr>\n",
              "      <th>25/29</th>\n",
              "      <td>22</td>\n",
              "      <td>122.650455</td>\n",
              "    </tr>\n",
              "    <tr>\n",
              "      <th>30/34</th>\n",
              "      <td>49</td>\n",
              "      <td>111.982041</td>\n",
              "    </tr>\n",
              "    <tr>\n",
              "      <th>35/39</th>\n",
              "      <td>68</td>\n",
              "      <td>117.723088</td>\n",
              "    </tr>\n",
              "    <tr>\n",
              "      <th>40/44</th>\n",
              "      <td>64</td>\n",
              "      <td>109.896719</td>\n",
              "    </tr>\n",
              "    <tr>\n",
              "      <th>45/49</th>\n",
              "      <td>65</td>\n",
              "      <td>113.216769</td>\n",
              "    </tr>\n",
              "    <tr>\n",
              "      <th>50/54</th>\n",
              "      <td>41</td>\n",
              "      <td>106.204390</td>\n",
              "    </tr>\n",
              "    <tr>\n",
              "      <th>55/59</th>\n",
              "      <td>29</td>\n",
              "      <td>125.568621</td>\n",
              "    </tr>\n",
              "    <tr>\n",
              "      <th>60/64</th>\n",
              "      <td>9</td>\n",
              "      <td>132.304444</td>\n",
              "    </tr>\n",
              "    <tr>\n",
              "      <th>65/69</th>\n",
              "      <td>6</td>\n",
              "      <td>121.633333</td>\n",
              "    </tr>\n",
              "    <tr>\n",
              "      <th>70+</th>\n",
              "      <td>2</td>\n",
              "      <td>109.270000</td>\n",
              "    </tr>\n",
              "    <tr>\n",
              "      <th>VENC.M</th>\n",
              "      <td>3</td>\n",
              "      <td>55.606667</td>\n",
              "    </tr>\n",
              "  </tbody>\n",
              "</table>\n",
              "</div>"
            ],
            "text/plain": [
              "          TempoEmMinutos            \n",
              "                    size        mean\n",
              "Categoria                           \n",
              "14/16                  5  119.436000\n",
              "17/19                  7  106.954286\n",
              "20/24                  7   96.158571\n",
              "25/29                 22  122.650455\n",
              "30/34                 49  111.982041\n",
              "35/39                 68  117.723088\n",
              "40/44                 64  109.896719\n",
              "45/49                 65  113.216769\n",
              "50/54                 41  106.204390\n",
              "55/59                 29  125.568621\n",
              "60/64                  9  132.304444\n",
              "65/69                  6  121.633333\n",
              "70+                    2  109.270000\n",
              "VENC.M                 3   55.606667"
            ]
          },
          "metadata": {
            "tags": []
          },
          "execution_count": 30
        }
      ]
    },
    {
      "metadata": {
        "id": "HGCZ3z2AEB7-",
        "colab_type": "code",
        "colab": {}
      },
      "cell_type": "code",
      "source": [
        "challange_mas_grouped.rename(columns={'size':'Qtd(M)','mean':'Tempo media(M)'},inplace=True)\n",
        "challange_fem_grouped.rename(columns={'size':'Qtd(F)','mean':'Tempo media(F)'},inplace=True)\n",
        "\n",
        "df_new = pd.concat([challange_mas_grouped, challange_fem_grouped], axis=1)\n",
        "df_new.columns = df_new.columns.droplevel(0)\n",
        "\n",
        "df_new['Qtd(M)'] = df_new['Qtd(M)'].fillna(0.0).astype(int)\n",
        "df_new['Qtd(F)'] = df_new['Qtd(F)'].fillna(0.0).astype(int)\n",
        "\n",
        "df_new['Tempo media(M)'] = df_new['Tempo media(M)'].fillna(0.0).astype(int)\n",
        "df_new['Tempo media(F)'] = df_new['Tempo media(F)'].fillna(0.0).astype(int)\n"
      ],
      "execution_count": 0,
      "outputs": []
    },
    {
      "metadata": {
        "id": "w0_3Rj1f9Yyk",
        "colab_type": "code",
        "colab": {}
      },
      "cell_type": "code",
      "source": [
        "total = 603\n",
        "completaram = df.shape[0]\n",
        "percent_compl = round(completaram / total * 100,2)"
      ],
      "execution_count": 0,
      "outputs": []
    },
    {
      "metadata": {
        "id": "cqGysydWC4q8",
        "colab_type": "code",
        "colab": {}
      },
      "cell_type": "code",
      "source": [
        "group_sx = df['Sx'].value_counts()\n",
        "qtd_masc = group_sx[0]\n",
        "qtd_fem = group_sx[1]\n",
        "percent_masc = round(qtd_masc / total * 100,2)\n",
        "percent_fem = round(qtd_fem / total * 100,2)"
      ],
      "execution_count": 0,
      "outputs": []
    },
    {
      "metadata": {
        "id": "AIZK17WBJ4G4",
        "colab_type": "code",
        "colab": {
          "base_uri": "https://localhost:8080/",
          "height": 34
        },
        "outputId": "d086f9e5-b21c-4806-a07f-905ae08cefea"
      },
      "cell_type": "code",
      "source": [
        "df['TempoEmMinutos'].mean().round(2)"
      ],
      "execution_count": 34,
      "outputs": [
        {
          "output_type": "execute_result",
          "data": {
            "text/plain": [
              "115.8"
            ]
          },
          "metadata": {
            "tags": []
          },
          "execution_count": 34
        }
      ]
    },
    {
      "metadata": {
        "id": "dpRUIRgcICgG",
        "colab_type": "code",
        "colab": {
          "base_uri": "https://localhost:8080/",
          "height": 34
        },
        "outputId": "cc442555-feb2-4078-c636-63483d8bab01"
      },
      "cell_type": "code",
      "source": [
        "df_tempo = df.groupby('Sx')['TempoEmMinutos'].mean().round(2)\n",
        "tempo_media_masc = df_tempo[1]\n",
        "tempo_media_fem  = df_tempo[0]\n",
        "tempo_geral = df['TempoEmMinutos'].mean().round(2)\n",
        "\n",
        "tempo_media_fem"
      ],
      "execution_count": 35,
      "outputs": [
        {
          "output_type": "execute_result",
          "data": {
            "text/plain": [
              "121.53"
            ]
          },
          "metadata": {
            "tags": []
          },
          "execution_count": 35
        }
      ]
    },
    {
      "metadata": {
        "id": "N1UTu4CrEUQM",
        "colab_type": "code",
        "colab": {
          "base_uri": "https://localhost:8080/",
          "height": 616
        },
        "outputId": "d9476eac-0aa3-47f5-fe8a-3f9ee4758652"
      },
      "cell_type": "code",
      "source": [
        "print(f\"Prova Challenge - 3.5km - Copacabana - 22/12/2018\")\n",
        "print(f\"Participantes: {total} / Completaram: {completaram} ({percent_compl}%)\")\n",
        "print(f\"Qtd por sexo: {qtd_fem} ({percent_fem}%) (F) / {qtd_masc} ({percent_masc}%) (M)\")\n",
        "print(f\"Tempo media (Minutos): {tempo_media_fem} (F) / {tempo_media_masc} (M), {tempo_geral} (Geral)\")\n",
        "print()\n",
        "print(\"Por categoria, dividido entre homens (M) e mulheres (F)\")\n",
        "df_new"
      ],
      "execution_count": 36,
      "outputs": [
        {
          "output_type": "stream",
          "text": [
            "Prova Challenge - 3.5km - Copacabana - 22/12/2018\n",
            "Participantes: 603 / Completaram: 508 (84.25%)\n",
            "Qtd por sexo: 131 (21.72%) (F) / 377 (62.52%) (M)\n",
            "Tempo media (Minutos): 121.53 (F) / 113.8 (M), 115.8 (Geral)\n",
            "\n",
            "Por categoria, dividido entre homens (M) e mulheres (F)\n"
          ],
          "name": "stdout"
        },
        {
          "output_type": "execute_result",
          "data": {
            "text/html": [
              "<div>\n",
              "<style scoped>\n",
              "    .dataframe tbody tr th:only-of-type {\n",
              "        vertical-align: middle;\n",
              "    }\n",
              "\n",
              "    .dataframe tbody tr th {\n",
              "        vertical-align: top;\n",
              "    }\n",
              "\n",
              "    .dataframe thead th {\n",
              "        text-align: right;\n",
              "    }\n",
              "</style>\n",
              "<table border=\"1\" class=\"dataframe\">\n",
              "  <thead>\n",
              "    <tr style=\"text-align: right;\">\n",
              "      <th></th>\n",
              "      <th>Qtd(M)</th>\n",
              "      <th>Tempo media(M)</th>\n",
              "      <th>Qtd(F)</th>\n",
              "      <th>Tempo media(F)</th>\n",
              "    </tr>\n",
              "  </thead>\n",
              "  <tbody>\n",
              "    <tr>\n",
              "      <th>14/16</th>\n",
              "      <td>5</td>\n",
              "      <td>119</td>\n",
              "      <td>4</td>\n",
              "      <td>102</td>\n",
              "    </tr>\n",
              "    <tr>\n",
              "      <th>17/19</th>\n",
              "      <td>7</td>\n",
              "      <td>106</td>\n",
              "      <td>1</td>\n",
              "      <td>76</td>\n",
              "    </tr>\n",
              "    <tr>\n",
              "      <th>20/24</th>\n",
              "      <td>7</td>\n",
              "      <td>96</td>\n",
              "      <td>4</td>\n",
              "      <td>94</td>\n",
              "    </tr>\n",
              "    <tr>\n",
              "      <th>25/29</th>\n",
              "      <td>22</td>\n",
              "      <td>122</td>\n",
              "      <td>10</td>\n",
              "      <td>108</td>\n",
              "    </tr>\n",
              "    <tr>\n",
              "      <th>30/34</th>\n",
              "      <td>49</td>\n",
              "      <td>111</td>\n",
              "      <td>16</td>\n",
              "      <td>122</td>\n",
              "    </tr>\n",
              "    <tr>\n",
              "      <th>35/39</th>\n",
              "      <td>68</td>\n",
              "      <td>117</td>\n",
              "      <td>26</td>\n",
              "      <td>129</td>\n",
              "    </tr>\n",
              "    <tr>\n",
              "      <th>40/44</th>\n",
              "      <td>64</td>\n",
              "      <td>109</td>\n",
              "      <td>16</td>\n",
              "      <td>125</td>\n",
              "    </tr>\n",
              "    <tr>\n",
              "      <th>45/49</th>\n",
              "      <td>65</td>\n",
              "      <td>113</td>\n",
              "      <td>19</td>\n",
              "      <td>116</td>\n",
              "    </tr>\n",
              "    <tr>\n",
              "      <th>50/54</th>\n",
              "      <td>41</td>\n",
              "      <td>106</td>\n",
              "      <td>14</td>\n",
              "      <td>132</td>\n",
              "    </tr>\n",
              "    <tr>\n",
              "      <th>55/59</th>\n",
              "      <td>29</td>\n",
              "      <td>125</td>\n",
              "      <td>15</td>\n",
              "      <td>121</td>\n",
              "    </tr>\n",
              "    <tr>\n",
              "      <th>60/64</th>\n",
              "      <td>9</td>\n",
              "      <td>132</td>\n",
              "      <td>3</td>\n",
              "      <td>181</td>\n",
              "    </tr>\n",
              "    <tr>\n",
              "      <th>65/69</th>\n",
              "      <td>6</td>\n",
              "      <td>121</td>\n",
              "      <td>0</td>\n",
              "      <td>0</td>\n",
              "    </tr>\n",
              "    <tr>\n",
              "      <th>70+</th>\n",
              "      <td>2</td>\n",
              "      <td>109</td>\n",
              "      <td>0</td>\n",
              "      <td>0</td>\n",
              "    </tr>\n",
              "    <tr>\n",
              "      <th>VENC.F</th>\n",
              "      <td>0</td>\n",
              "      <td>0</td>\n",
              "      <td>3</td>\n",
              "      <td>58</td>\n",
              "    </tr>\n",
              "    <tr>\n",
              "      <th>VENC.M</th>\n",
              "      <td>3</td>\n",
              "      <td>55</td>\n",
              "      <td>0</td>\n",
              "      <td>0</td>\n",
              "    </tr>\n",
              "  </tbody>\n",
              "</table>\n",
              "</div>"
            ],
            "text/plain": [
              "        Qtd(M)  Tempo media(M)  Qtd(F)  Tempo media(F)\n",
              "14/16        5             119       4             102\n",
              "17/19        7             106       1              76\n",
              "20/24        7              96       4              94\n",
              "25/29       22             122      10             108\n",
              "30/34       49             111      16             122\n",
              "35/39       68             117      26             129\n",
              "40/44       64             109      16             125\n",
              "45/49       65             113      19             116\n",
              "50/54       41             106      14             132\n",
              "55/59       29             125      15             121\n",
              "60/64        9             132       3             181\n",
              "65/69        6             121       0               0\n",
              "70+          2             109       0               0\n",
              "VENC.F       0               0       3              58\n",
              "VENC.M       3              55       0               0"
            ]
          },
          "metadata": {
            "tags": []
          },
          "execution_count": 36
        }
      ]
    }
  ]
}