{
  "nbformat": 4,
  "nbformat_minor": 0,
  "metadata": {
    "colab": {
      "name": "sprint.ipynb",
      "version": "0.3.2",
      "provenance": []
    },
    "kernelspec": {
      "name": "python3",
      "display_name": "Python 3"
    }
  },
  "cells": [
    {
      "metadata": {
        "id": "DDL0r_WdBvkH",
        "colab_type": "code",
        "outputId": "0e9cde11-e1a9-4ae9-a728-ed223cdfb7c1",
        "colab": {
          "base_uri": "https://localhost:8080/",
          "height": 343
        }
      },
      "cell_type": "code",
      "source": [
        "!pip install seaborn==0.9.0 \n",
        "!pip install matplotlib==1.4.3\n",
        "!pip install duration"
      ],
      "execution_count": 1,
      "outputs": [
        {
          "output_type": "stream",
          "text": [
            "Requirement already satisfied: seaborn==0.9.0 in /usr/local/lib/python3.6/dist-packages (0.9.0)\n",
            "Requirement already satisfied: pandas>=0.15.2 in /usr/local/lib/python3.6/dist-packages (from seaborn==0.9.0) (0.22.0)\n",
            "Requirement already satisfied: numpy>=1.9.3 in /usr/local/lib/python3.6/dist-packages (from seaborn==0.9.0) (1.14.6)\n",
            "Requirement already satisfied: scipy>=0.14.0 in /usr/local/lib/python3.6/dist-packages (from seaborn==0.9.0) (1.1.0)\n",
            "Requirement already satisfied: matplotlib>=1.4.3 in /usr/local/lib/python3.6/dist-packages (from seaborn==0.9.0) (1.4.3)\n",
            "Requirement already satisfied: pytz>=2011k in /usr/local/lib/python3.6/dist-packages (from pandas>=0.15.2->seaborn==0.9.0) (2018.7)\n",
            "Requirement already satisfied: python-dateutil>=2 in /usr/local/lib/python3.6/dist-packages (from pandas>=0.15.2->seaborn==0.9.0) (2.5.3)\n",
            "Requirement already satisfied: six>=1.4 in /usr/local/lib/python3.6/dist-packages (from matplotlib>=1.4.3->seaborn==0.9.0) (1.11.0)\n",
            "Requirement already satisfied: nose>=0.11.1 in /usr/local/lib/python3.6/dist-packages (from matplotlib>=1.4.3->seaborn==0.9.0) (1.3.7)\n",
            "Requirement already satisfied: pyparsing>=1.5.6 in /usr/local/lib/python3.6/dist-packages (from matplotlib>=1.4.3->seaborn==0.9.0) (2.3.0)\n",
            "Requirement already satisfied: matplotlib==1.4.3 in /usr/local/lib/python3.6/dist-packages (1.4.3)\n",
            "Requirement already satisfied: six>=1.4 in /usr/local/lib/python3.6/dist-packages (from matplotlib==1.4.3) (1.11.0)\n",
            "Requirement already satisfied: pytz in /usr/local/lib/python3.6/dist-packages (from matplotlib==1.4.3) (2018.7)\n",
            "Requirement already satisfied: nose>=0.11.1 in /usr/local/lib/python3.6/dist-packages (from matplotlib==1.4.3) (1.3.7)\n",
            "Requirement already satisfied: python-dateutil in /usr/local/lib/python3.6/dist-packages (from matplotlib==1.4.3) (2.5.3)\n",
            "Requirement already satisfied: numpy>=1.6 in /usr/local/lib/python3.6/dist-packages (from matplotlib==1.4.3) (1.14.6)\n",
            "Requirement already satisfied: pyparsing>=1.5.6 in /usr/local/lib/python3.6/dist-packages (from matplotlib==1.4.3) (2.3.0)\n",
            "Requirement already satisfied: duration in /usr/local/lib/python3.6/dist-packages (1.1.1)\n"
          ],
          "name": "stdout"
        }
      ]
    },
    {
      "metadata": {
        "id": "JYU0zu1FPMzF",
        "colab_type": "code",
        "colab": {}
      },
      "cell_type": "code",
      "source": [
        "import pandas as pd\n",
        "from duration import (\n",
        "    to_seconds\n",
        ")\n",
        "import seaborn as sns\n",
        "import matplotlib.pyplot as plt"
      ],
      "execution_count": 0,
      "outputs": []
    },
    {
      "metadata": {
        "id": "JLdB2ym0B-YO",
        "colab_type": "code",
        "outputId": "c482cc6b-8776-4b9d-9bb4-372cde807ab8",
        "colab": {
          "base_uri": "https://localhost:8080/",
          "height": 34
        }
      },
      "cell_type": "code",
      "source": [
        "print(f\"Seaborn {sns.__version__}, Pandas {pd.__version__}\")"
      ],
      "execution_count": 3,
      "outputs": [
        {
          "output_type": "stream",
          "text": [
            "Seaborn 0.9.0, Pandas 0.22.0\n"
          ],
          "name": "stdout"
        }
      ]
    },
    {
      "metadata": {
        "id": "aaHjrTAIPhmo",
        "colab_type": "code",
        "colab": {}
      },
      "cell_type": "code",
      "source": [
        "dfs = pd.read_html('sprint.html')[0]"
      ],
      "execution_count": 0,
      "outputs": []
    },
    {
      "metadata": {
        "id": "qC_PtRtVRBVT",
        "colab_type": "code",
        "colab": {}
      },
      "cell_type": "code",
      "source": [
        "df = dfs.drop(columns=['Nome', 'Clube/ Equipe'])"
      ],
      "execution_count": 0,
      "outputs": []
    },
    {
      "metadata": {
        "id": "PODEAPT0RDCd",
        "colab_type": "code",
        "outputId": "93500366-750c-4dfc-f974-01e19fbcddd2",
        "colab": {
          "base_uri": "https://localhost:8080/",
          "height": 204
        }
      },
      "cell_type": "code",
      "source": [
        "df.head()"
      ],
      "execution_count": 6,
      "outputs": [
        {
          "output_type": "execute_result",
          "data": {
            "text/html": [
              "<div>\n",
              "<style scoped>\n",
              "    .dataframe tbody tr th:only-of-type {\n",
              "        vertical-align: middle;\n",
              "    }\n",
              "\n",
              "    .dataframe tbody tr th {\n",
              "        vertical-align: top;\n",
              "    }\n",
              "\n",
              "    .dataframe thead th {\n",
              "        text-align: right;\n",
              "    }\n",
              "</style>\n",
              "<table border=\"1\" class=\"dataframe\">\n",
              "  <thead>\n",
              "    <tr style=\"text-align: right;\">\n",
              "      <th></th>\n",
              "      <th>Col</th>\n",
              "      <th>Num</th>\n",
              "      <th>Sx</th>\n",
              "      <th>Cat</th>\n",
              "      <th>Tempo Oficial:</th>\n",
              "      <th>Col.Cat</th>\n",
              "    </tr>\n",
              "  </thead>\n",
              "  <tbody>\n",
              "    <tr>\n",
              "      <th>0</th>\n",
              "      <td>1.0</td>\n",
              "      <td>1478</td>\n",
              "      <td>M</td>\n",
              "      <td>VENC.M</td>\n",
              "      <td>00:11:42</td>\n",
              "      <td>1</td>\n",
              "    </tr>\n",
              "    <tr>\n",
              "      <th>1</th>\n",
              "      <td>2.0</td>\n",
              "      <td>1271</td>\n",
              "      <td>M</td>\n",
              "      <td>VENC.M</td>\n",
              "      <td>00:12:12</td>\n",
              "      <td>2</td>\n",
              "    </tr>\n",
              "    <tr>\n",
              "      <th>2</th>\n",
              "      <td>3.0</td>\n",
              "      <td>1151</td>\n",
              "      <td>M</td>\n",
              "      <td>VENC.M</td>\n",
              "      <td>00:12:18</td>\n",
              "      <td>3</td>\n",
              "    </tr>\n",
              "    <tr>\n",
              "      <th>3</th>\n",
              "      <td>4.0</td>\n",
              "      <td>1026</td>\n",
              "      <td>M</td>\n",
              "      <td>M40/44</td>\n",
              "      <td>00:13:30</td>\n",
              "      <td>1</td>\n",
              "    </tr>\n",
              "    <tr>\n",
              "      <th>4</th>\n",
              "      <td>5.0</td>\n",
              "      <td>1099</td>\n",
              "      <td>M</td>\n",
              "      <td>M30/34</td>\n",
              "      <td>00:13:33</td>\n",
              "      <td>1</td>\n",
              "    </tr>\n",
              "  </tbody>\n",
              "</table>\n",
              "</div>"
            ],
            "text/plain": [
              "   Col   Num Sx     Cat Tempo Oficial:  Col.Cat\n",
              "0  1.0  1478  M  VENC.M       00:11:42        1\n",
              "1  2.0  1271  M  VENC.M       00:12:12        2\n",
              "2  3.0  1151  M  VENC.M       00:12:18        3\n",
              "3  4.0  1026  M  M40/44       00:13:30        1\n",
              "4  5.0  1099  M  M30/34       00:13:33        1"
            ]
          },
          "metadata": {
            "tags": []
          },
          "execution_count": 6
        }
      ]
    },
    {
      "metadata": {
        "id": "HMIhzO7BYhG3",
        "colab_type": "code",
        "colab": {}
      },
      "cell_type": "code",
      "source": [
        "time = df.head(1)['Tempo Oficial:'][0]\n",
        "seconds = to_seconds(time, strict=False) # 91405"
      ],
      "execution_count": 0,
      "outputs": []
    },
    {
      "metadata": {
        "id": "GXXo5oY1YvK3",
        "colab_type": "code",
        "outputId": "e14509c5-75a4-432a-f146-247d6c523252",
        "colab": {
          "base_uri": "https://localhost:8080/",
          "height": 34
        }
      },
      "cell_type": "code",
      "source": [
        "seconds, time"
      ],
      "execution_count": 8,
      "outputs": [
        {
          "output_type": "execute_result",
          "data": {
            "text/plain": [
              "(702, '00:11:42')"
            ]
          },
          "metadata": {
            "tags": []
          },
          "execution_count": 8
        }
      ]
    },
    {
      "metadata": {
        "id": "-vPRByQm7Sz_",
        "colab_type": "code",
        "outputId": "6dae9637-710f-4917-9e25-8838d6e0f355",
        "colab": {
          "base_uri": "https://localhost:8080/",
          "height": 34
        }
      },
      "cell_type": "code",
      "source": [
        "df.shape"
      ],
      "execution_count": 9,
      "outputs": [
        {
          "output_type": "execute_result",
          "data": {
            "text/plain": [
              "(590, 6)"
            ]
          },
          "metadata": {
            "tags": []
          },
          "execution_count": 9
        }
      ]
    },
    {
      "metadata": {
        "id": "aLpLR_FCZf1l",
        "colab_type": "code",
        "outputId": "d26386e8-dd90-4675-ea04-3838ec1e3787",
        "colab": {
          "base_uri": "https://localhost:8080/",
          "height": 34
        }
      },
      "cell_type": "code",
      "source": [
        "52*60 + 12"
      ],
      "execution_count": 10,
      "outputs": [
        {
          "output_type": "execute_result",
          "data": {
            "text/plain": [
              "3132"
            ]
          },
          "metadata": {
            "tags": []
          },
          "execution_count": 10
        }
      ]
    },
    {
      "metadata": {
        "id": "FGrRQo6FdNMS",
        "colab_type": "code",
        "outputId": "037ba6eb-cf06-46d8-8476-2109afe26748",
        "colab": {
          "base_uri": "https://localhost:8080/",
          "height": 119
        }
      },
      "cell_type": "code",
      "source": [
        "df['Tempo Oficial:'].head()"
      ],
      "execution_count": 11,
      "outputs": [
        {
          "output_type": "execute_result",
          "data": {
            "text/plain": [
              "0    00:11:42\n",
              "1    00:12:12\n",
              "2    00:12:18\n",
              "3    00:13:30\n",
              "4    00:13:33\n",
              "Name: Tempo Oficial:, dtype: object"
            ]
          },
          "metadata": {
            "tags": []
          },
          "execution_count": 11
        }
      ]
    },
    {
      "metadata": {
        "id": "gQ4CbDI_ZvRz",
        "colab_type": "code",
        "colab": {}
      },
      "cell_type": "code",
      "source": [
        "df['TempoEmSegundos'] = df['Tempo Oficial:'].apply(to_seconds)\n",
        "df['TempoEmSegundos'] = df['TempoEmSegundos'].round(2)"
      ],
      "execution_count": 0,
      "outputs": []
    },
    {
      "metadata": {
        "id": "vN3YURxOfy_L",
        "colab_type": "code",
        "colab": {}
      },
      "cell_type": "code",
      "source": [
        "def to_minutes(seconds):\n",
        "  minutes = seconds // 60\n",
        "  seconds = (seconds - (60 * minutes)) \n",
        "  return minutes + (seconds / 100)\n",
        "  \n",
        "\n",
        "df['TempoEmMinutos'] = df['TempoEmSegundos'].apply(to_minutes)"
      ],
      "execution_count": 0,
      "outputs": []
    },
    {
      "metadata": {
        "id": "D_YzYn1Fmrp5",
        "colab_type": "code",
        "colab": {}
      },
      "cell_type": "code",
      "source": [
        "df = df.drop(columns='Tempo Oficial:')"
      ],
      "execution_count": 0,
      "outputs": []
    },
    {
      "metadata": {
        "id": "SMMUlVyhcwo9",
        "colab_type": "code",
        "outputId": "5f15808f-853f-4349-c6a5-1f2f4a0c98f8",
        "colab": {
          "base_uri": "https://localhost:8080/",
          "height": 204
        }
      },
      "cell_type": "code",
      "source": [
        "df.head()"
      ],
      "execution_count": 15,
      "outputs": [
        {
          "output_type": "execute_result",
          "data": {
            "text/html": [
              "<div>\n",
              "<style scoped>\n",
              "    .dataframe tbody tr th:only-of-type {\n",
              "        vertical-align: middle;\n",
              "    }\n",
              "\n",
              "    .dataframe tbody tr th {\n",
              "        vertical-align: top;\n",
              "    }\n",
              "\n",
              "    .dataframe thead th {\n",
              "        text-align: right;\n",
              "    }\n",
              "</style>\n",
              "<table border=\"1\" class=\"dataframe\">\n",
              "  <thead>\n",
              "    <tr style=\"text-align: right;\">\n",
              "      <th></th>\n",
              "      <th>Col</th>\n",
              "      <th>Num</th>\n",
              "      <th>Sx</th>\n",
              "      <th>Cat</th>\n",
              "      <th>Col.Cat</th>\n",
              "      <th>TempoEmSegundos</th>\n",
              "      <th>TempoEmMinutos</th>\n",
              "    </tr>\n",
              "  </thead>\n",
              "  <tbody>\n",
              "    <tr>\n",
              "      <th>0</th>\n",
              "      <td>1.0</td>\n",
              "      <td>1478</td>\n",
              "      <td>M</td>\n",
              "      <td>VENC.M</td>\n",
              "      <td>1</td>\n",
              "      <td>702</td>\n",
              "      <td>11.42</td>\n",
              "    </tr>\n",
              "    <tr>\n",
              "      <th>1</th>\n",
              "      <td>2.0</td>\n",
              "      <td>1271</td>\n",
              "      <td>M</td>\n",
              "      <td>VENC.M</td>\n",
              "      <td>2</td>\n",
              "      <td>732</td>\n",
              "      <td>12.12</td>\n",
              "    </tr>\n",
              "    <tr>\n",
              "      <th>2</th>\n",
              "      <td>3.0</td>\n",
              "      <td>1151</td>\n",
              "      <td>M</td>\n",
              "      <td>VENC.M</td>\n",
              "      <td>3</td>\n",
              "      <td>738</td>\n",
              "      <td>12.18</td>\n",
              "    </tr>\n",
              "    <tr>\n",
              "      <th>3</th>\n",
              "      <td>4.0</td>\n",
              "      <td>1026</td>\n",
              "      <td>M</td>\n",
              "      <td>M40/44</td>\n",
              "      <td>1</td>\n",
              "      <td>810</td>\n",
              "      <td>13.30</td>\n",
              "    </tr>\n",
              "    <tr>\n",
              "      <th>4</th>\n",
              "      <td>5.0</td>\n",
              "      <td>1099</td>\n",
              "      <td>M</td>\n",
              "      <td>M30/34</td>\n",
              "      <td>1</td>\n",
              "      <td>813</td>\n",
              "      <td>13.33</td>\n",
              "    </tr>\n",
              "  </tbody>\n",
              "</table>\n",
              "</div>"
            ],
            "text/plain": [
              "   Col   Num Sx     Cat  Col.Cat  TempoEmSegundos  TempoEmMinutos\n",
              "0  1.0  1478  M  VENC.M        1              702           11.42\n",
              "1  2.0  1271  M  VENC.M        2              732           12.12\n",
              "2  3.0  1151  M  VENC.M        3              738           12.18\n",
              "3  4.0  1026  M  M40/44        1              810           13.30\n",
              "4  5.0  1099  M  M30/34        1              813           13.33"
            ]
          },
          "metadata": {
            "tags": []
          },
          "execution_count": 15
        }
      ]
    },
    {
      "metadata": {
        "id": "shuq8cNKhFov",
        "colab_type": "text"
      },
      "cell_type": "markdown",
      "source": [
        ""
      ]
    },
    {
      "metadata": {
        "id": "APa6bsnhdofy",
        "colab_type": "code",
        "outputId": "77ec3db4-3d34-4144-a2fe-6676f68340f5",
        "colab": {
          "base_uri": "https://localhost:8080/",
          "height": 170
        }
      },
      "cell_type": "code",
      "source": [
        "df['TempoEmSegundos'].describe()"
      ],
      "execution_count": 16,
      "outputs": [
        {
          "output_type": "execute_result",
          "data": {
            "text/plain": [
              "count     590.000000\n",
              "mean     1542.354237\n",
              "std       502.344640\n",
              "min       702.000000\n",
              "25%      1198.000000\n",
              "50%      1453.000000\n",
              "75%      1766.500000\n",
              "max      4356.000000\n",
              "Name: TempoEmSegundos, dtype: float64"
            ]
          },
          "metadata": {
            "tags": []
          },
          "execution_count": 16
        }
      ]
    },
    {
      "metadata": {
        "id": "ydnXMZP4nMwC",
        "colab_type": "code",
        "outputId": "96b60e38-73dc-49a2-cd77-d7e668db6e66",
        "colab": {
          "base_uri": "https://localhost:8080/",
          "height": 309
        }
      },
      "cell_type": "code",
      "source": [
        "sns.set_style('darkgrid')\n",
        "sns.distplot(df['TempoEmSegundos'], bins=40)"
      ],
      "execution_count": 17,
      "outputs": [
        {
          "output_type": "execute_result",
          "data": {
            "text/plain": [
              "<matplotlib.axes._subplots.AxesSubplot at 0x7fd90f387048>"
            ]
          },
          "metadata": {
            "tags": []
          },
          "execution_count": 17
        },
        {
          "output_type": "display_data",
          "data": {
            "image/png": "[encoded data removed]",
            "text/plain": [
              "<matplotlib.figure.Figure at 0x7fd90f317a90>"
            ]
          },
          "metadata": {
            "tags": []
          }
        }
      ]
    },
    {
      "metadata": {
        "id": "cpiP2-sJd0C3",
        "colab_type": "code",
        "outputId": "646b6734-67f0-4ba8-911f-76752524c8db",
        "colab": {
          "base_uri": "https://localhost:8080/",
          "height": 294
        }
      },
      "cell_type": "code",
      "source": [
        "fig = sns.boxplot( palette=[\"m\", \"g\"], data=df['TempoEmSegundos'])\n",
        "fig"
      ],
      "execution_count": 18,
      "outputs": [
        {
          "output_type": "execute_result",
          "data": {
            "text/plain": [
              "<matplotlib.axes._subplots.AxesSubplot at 0x7fd90f26ecc0>"
            ]
          },
          "metadata": {
            "tags": []
          },
          "execution_count": 18
        },
        {
          "output_type": "display_data",
          "data": {
            "image/png": "[encoded data removed]",
            "text/plain": [
              "<matplotlib.figure.Figure at 0x7fd90f2a5b38>"
            ]
          },
          "metadata": {
            "tags": []
          }
        }
      ]
    },
    {
      "metadata": {
        "id": "RYiIMIpqgC6u",
        "colab_type": "code",
        "outputId": "ff390117-496d-4209-a5c1-d049446a3dc6",
        "colab": {
          "base_uri": "https://localhost:8080/",
          "height": 1071
        }
      },
      "cell_type": "code",
      "source": [
        "df['TempoEmSegundos'] > 3600"
      ],
      "execution_count": 19,
      "outputs": [
        {
          "output_type": "execute_result",
          "data": {
            "text/plain": [
              "0      False\n",
              "1      False\n",
              "2      False\n",
              "3      False\n",
              "4      False\n",
              "5      False\n",
              "6      False\n",
              "7      False\n",
              "8      False\n",
              "9      False\n",
              "10     False\n",
              "11     False\n",
              "12     False\n",
              "13     False\n",
              "14     False\n",
              "15     False\n",
              "16     False\n",
              "17     False\n",
              "18     False\n",
              "19     False\n",
              "20     False\n",
              "21     False\n",
              "22     False\n",
              "23     False\n",
              "24     False\n",
              "25     False\n",
              "26     False\n",
              "27     False\n",
              "28     False\n",
              "29     False\n",
              "       ...  \n",
              "560    False\n",
              "561    False\n",
              "562    False\n",
              "563    False\n",
              "564    False\n",
              "565    False\n",
              "566    False\n",
              "567    False\n",
              "568    False\n",
              "569    False\n",
              "570    False\n",
              "571    False\n",
              "572    False\n",
              "573    False\n",
              "574    False\n",
              "575    False\n",
              "576    False\n",
              "577    False\n",
              "578    False\n",
              "579    False\n",
              "580    False\n",
              "581    False\n",
              "582    False\n",
              "583    False\n",
              "584    False\n",
              "585    False\n",
              "586    False\n",
              "587     True\n",
              "588     True\n",
              "589     True\n",
              "Name: TempoEmSegundos, Length: 590, dtype: bool"
            ]
          },
          "metadata": {
            "tags": []
          },
          "execution_count": 19
        }
      ]
    },
    {
      "metadata": {
        "id": "0bxRRwLKgsTh",
        "colab_type": "code",
        "outputId": "ffae327f-450d-462c-f84c-66ee2ca08672",
        "colab": {
          "base_uri": "https://localhost:8080/",
          "height": 204
        }
      },
      "cell_type": "code",
      "source": [
        "df.tail()"
      ],
      "execution_count": 20,
      "outputs": [
        {
          "output_type": "execute_result",
          "data": {
            "text/html": [
              "<div>\n",
              "<style scoped>\n",
              "    .dataframe tbody tr th:only-of-type {\n",
              "        vertical-align: middle;\n",
              "    }\n",
              "\n",
              "    .dataframe tbody tr th {\n",
              "        vertical-align: top;\n",
              "    }\n",
              "\n",
              "    .dataframe thead th {\n",
              "        text-align: right;\n",
              "    }\n",
              "</style>\n",
              "<table border=\"1\" class=\"dataframe\">\n",
              "  <thead>\n",
              "    <tr style=\"text-align: right;\">\n",
              "      <th></th>\n",
              "      <th>Col</th>\n",
              "      <th>Num</th>\n",
              "      <th>Sx</th>\n",
              "      <th>Cat</th>\n",
              "      <th>Col.Cat</th>\n",
              "      <th>TempoEmSegundos</th>\n",
              "      <th>TempoEmMinutos</th>\n",
              "    </tr>\n",
              "  </thead>\n",
              "  <tbody>\n",
              "    <tr>\n",
              "      <th>585</th>\n",
              "      <td>586.0</td>\n",
              "      <td>1463</td>\n",
              "      <td>F</td>\n",
              "      <td>F35/39</td>\n",
              "      <td>37</td>\n",
              "      <td>3415</td>\n",
              "      <td>56.55</td>\n",
              "    </tr>\n",
              "    <tr>\n",
              "      <th>586</th>\n",
              "      <td>587.0</td>\n",
              "      <td>1267</td>\n",
              "      <td>F</td>\n",
              "      <td>F40/44</td>\n",
              "      <td>26</td>\n",
              "      <td>3563</td>\n",
              "      <td>59.23</td>\n",
              "    </tr>\n",
              "    <tr>\n",
              "      <th>587</th>\n",
              "      <td>588.0</td>\n",
              "      <td>1122</td>\n",
              "      <td>F</td>\n",
              "      <td>F65/69</td>\n",
              "      <td>5</td>\n",
              "      <td>3948</td>\n",
              "      <td>65.48</td>\n",
              "    </tr>\n",
              "    <tr>\n",
              "      <th>588</th>\n",
              "      <td>589.0</td>\n",
              "      <td>1034</td>\n",
              "      <td>M</td>\n",
              "      <td>M40/44</td>\n",
              "      <td>36</td>\n",
              "      <td>3973</td>\n",
              "      <td>66.13</td>\n",
              "    </tr>\n",
              "    <tr>\n",
              "      <th>589</th>\n",
              "      <td>590.0</td>\n",
              "      <td>1015</td>\n",
              "      <td>M</td>\n",
              "      <td>M40/44</td>\n",
              "      <td>37</td>\n",
              "      <td>4356</td>\n",
              "      <td>72.36</td>\n",
              "    </tr>\n",
              "  </tbody>\n",
              "</table>\n",
              "</div>"
            ],
            "text/plain": [
              "       Col   Num Sx     Cat  Col.Cat  TempoEmSegundos  TempoEmMinutos\n",
              "585  586.0  1463  F  F35/39       37             3415           56.55\n",
              "586  587.0  1267  F  F40/44       26             3563           59.23\n",
              "587  588.0  1122  F  F65/69        5             3948           65.48\n",
              "588  589.0  1034  M  M40/44       36             3973           66.13\n",
              "589  590.0  1015  M  M40/44       37             4356           72.36"
            ]
          },
          "metadata": {
            "tags": []
          },
          "execution_count": 20
        }
      ]
    },
    {
      "metadata": {
        "id": "z6lPxmwLhI4t",
        "colab_type": "code",
        "outputId": "827a9a4a-c9b6-4ecb-e890-492ce1e8420c",
        "colab": {
          "base_uri": "https://localhost:8080/",
          "height": 669
        }
      },
      "cell_type": "code",
      "source": [
        "df.tail(20)"
      ],
      "execution_count": 21,
      "outputs": [
        {
          "output_type": "execute_result",
          "data": {
            "text/html": [
              "<div>\n",
              "<style scoped>\n",
              "    .dataframe tbody tr th:only-of-type {\n",
              "        vertical-align: middle;\n",
              "    }\n",
              "\n",
              "    .dataframe tbody tr th {\n",
              "        vertical-align: top;\n",
              "    }\n",
              "\n",
              "    .dataframe thead th {\n",
              "        text-align: right;\n",
              "    }\n",
              "</style>\n",
              "<table border=\"1\" class=\"dataframe\">\n",
              "  <thead>\n",
              "    <tr style=\"text-align: right;\">\n",
              "      <th></th>\n",
              "      <th>Col</th>\n",
              "      <th>Num</th>\n",
              "      <th>Sx</th>\n",
              "      <th>Cat</th>\n",
              "      <th>Col.Cat</th>\n",
              "      <th>TempoEmSegundos</th>\n",
              "      <th>TempoEmMinutos</th>\n",
              "    </tr>\n",
              "  </thead>\n",
              "  <tbody>\n",
              "    <tr>\n",
              "      <th>570</th>\n",
              "      <td>571.0</td>\n",
              "      <td>1387</td>\n",
              "      <td>F</td>\n",
              "      <td>F65/69</td>\n",
              "      <td>4</td>\n",
              "      <td>2601</td>\n",
              "      <td>43.21</td>\n",
              "    </tr>\n",
              "    <tr>\n",
              "      <th>571</th>\n",
              "      <td>572.0</td>\n",
              "      <td>1706</td>\n",
              "      <td>F</td>\n",
              "      <td>F35/39</td>\n",
              "      <td>35</td>\n",
              "      <td>2610</td>\n",
              "      <td>43.30</td>\n",
              "    </tr>\n",
              "    <tr>\n",
              "      <th>572</th>\n",
              "      <td>573.0</td>\n",
              "      <td>1009</td>\n",
              "      <td>F</td>\n",
              "      <td>F45/49</td>\n",
              "      <td>20</td>\n",
              "      <td>2626</td>\n",
              "      <td>43.46</td>\n",
              "    </tr>\n",
              "    <tr>\n",
              "      <th>573</th>\n",
              "      <td>574.0</td>\n",
              "      <td>1672</td>\n",
              "      <td>M</td>\n",
              "      <td>M30/34</td>\n",
              "      <td>37</td>\n",
              "      <td>2638</td>\n",
              "      <td>43.58</td>\n",
              "    </tr>\n",
              "    <tr>\n",
              "      <th>574</th>\n",
              "      <td>575.0</td>\n",
              "      <td>1394</td>\n",
              "      <td>M</td>\n",
              "      <td>M40/44</td>\n",
              "      <td>35</td>\n",
              "      <td>2684</td>\n",
              "      <td>44.44</td>\n",
              "    </tr>\n",
              "    <tr>\n",
              "      <th>575</th>\n",
              "      <td>576.0</td>\n",
              "      <td>1412</td>\n",
              "      <td>M</td>\n",
              "      <td>M50/54</td>\n",
              "      <td>29</td>\n",
              "      <td>2792</td>\n",
              "      <td>46.32</td>\n",
              "    </tr>\n",
              "    <tr>\n",
              "      <th>576</th>\n",
              "      <td>577.0</td>\n",
              "      <td>1148</td>\n",
              "      <td>F</td>\n",
              "      <td>F55/59</td>\n",
              "      <td>23</td>\n",
              "      <td>2881</td>\n",
              "      <td>48.01</td>\n",
              "    </tr>\n",
              "    <tr>\n",
              "      <th>577</th>\n",
              "      <td>578.0</td>\n",
              "      <td>1604</td>\n",
              "      <td>F</td>\n",
              "      <td>F70+</td>\n",
              "      <td>5</td>\n",
              "      <td>2891</td>\n",
              "      <td>48.11</td>\n",
              "    </tr>\n",
              "    <tr>\n",
              "      <th>578</th>\n",
              "      <td>579.0</td>\n",
              "      <td>1299</td>\n",
              "      <td>M</td>\n",
              "      <td>M45/49</td>\n",
              "      <td>30</td>\n",
              "      <td>3026</td>\n",
              "      <td>50.26</td>\n",
              "    </tr>\n",
              "    <tr>\n",
              "      <th>579</th>\n",
              "      <td>580.0</td>\n",
              "      <td>1167</td>\n",
              "      <td>M</td>\n",
              "      <td>M25/29</td>\n",
              "      <td>23</td>\n",
              "      <td>3039</td>\n",
              "      <td>50.39</td>\n",
              "    </tr>\n",
              "    <tr>\n",
              "      <th>580</th>\n",
              "      <td>581.0</td>\n",
              "      <td>1334</td>\n",
              "      <td>F</td>\n",
              "      <td>F45/49</td>\n",
              "      <td>21</td>\n",
              "      <td>3389</td>\n",
              "      <td>56.29</td>\n",
              "    </tr>\n",
              "    <tr>\n",
              "      <th>581</th>\n",
              "      <td>582.0</td>\n",
              "      <td>1581</td>\n",
              "      <td>F</td>\n",
              "      <td>F35/39</td>\n",
              "      <td>36</td>\n",
              "      <td>3411</td>\n",
              "      <td>56.51</td>\n",
              "    </tr>\n",
              "    <tr>\n",
              "      <th>582</th>\n",
              "      <td>583.0</td>\n",
              "      <td>1063</td>\n",
              "      <td>F</td>\n",
              "      <td>F45/49</td>\n",
              "      <td>22</td>\n",
              "      <td>3413</td>\n",
              "      <td>56.53</td>\n",
              "    </tr>\n",
              "    <tr>\n",
              "      <th>583</th>\n",
              "      <td>584.0</td>\n",
              "      <td>1300</td>\n",
              "      <td>F</td>\n",
              "      <td>F25/29</td>\n",
              "      <td>32</td>\n",
              "      <td>3413</td>\n",
              "      <td>56.53</td>\n",
              "    </tr>\n",
              "    <tr>\n",
              "      <th>584</th>\n",
              "      <td>585.0</td>\n",
              "      <td>1620</td>\n",
              "      <td>F</td>\n",
              "      <td>F55/59</td>\n",
              "      <td>24</td>\n",
              "      <td>3414</td>\n",
              "      <td>56.54</td>\n",
              "    </tr>\n",
              "    <tr>\n",
              "      <th>585</th>\n",
              "      <td>586.0</td>\n",
              "      <td>1463</td>\n",
              "      <td>F</td>\n",
              "      <td>F35/39</td>\n",
              "      <td>37</td>\n",
              "      <td>3415</td>\n",
              "      <td>56.55</td>\n",
              "    </tr>\n",
              "    <tr>\n",
              "      <th>586</th>\n",
              "      <td>587.0</td>\n",
              "      <td>1267</td>\n",
              "      <td>F</td>\n",
              "      <td>F40/44</td>\n",
              "      <td>26</td>\n",
              "      <td>3563</td>\n",
              "      <td>59.23</td>\n",
              "    </tr>\n",
              "    <tr>\n",
              "      <th>587</th>\n",
              "      <td>588.0</td>\n",
              "      <td>1122</td>\n",
              "      <td>F</td>\n",
              "      <td>F65/69</td>\n",
              "      <td>5</td>\n",
              "      <td>3948</td>\n",
              "      <td>65.48</td>\n",
              "    </tr>\n",
              "    <tr>\n",
              "      <th>588</th>\n",
              "      <td>589.0</td>\n",
              "      <td>1034</td>\n",
              "      <td>M</td>\n",
              "      <td>M40/44</td>\n",
              "      <td>36</td>\n",
              "      <td>3973</td>\n",
              "      <td>66.13</td>\n",
              "    </tr>\n",
              "    <tr>\n",
              "      <th>589</th>\n",
              "      <td>590.0</td>\n",
              "      <td>1015</td>\n",
              "      <td>M</td>\n",
              "      <td>M40/44</td>\n",
              "      <td>37</td>\n",
              "      <td>4356</td>\n",
              "      <td>72.36</td>\n",
              "    </tr>\n",
              "  </tbody>\n",
              "</table>\n",
              "</div>"
            ],
            "text/plain": [
              "       Col   Num Sx     Cat  Col.Cat  TempoEmSegundos  TempoEmMinutos\n",
              "570  571.0  1387  F  F65/69        4             2601           43.21\n",
              "571  572.0  1706  F  F35/39       35             2610           43.30\n",
              "572  573.0  1009  F  F45/49       20             2626           43.46\n",
              "573  574.0  1672  M  M30/34       37             2638           43.58\n",
              "574  575.0  1394  M  M40/44       35             2684           44.44\n",
              "575  576.0  1412  M  M50/54       29             2792           46.32\n",
              "576  577.0  1148  F  F55/59       23             2881           48.01\n",
              "577  578.0  1604  F    F70+        5             2891           48.11\n",
              "578  579.0  1299  M  M45/49       30             3026           50.26\n",
              "579  580.0  1167  M  M25/29       23             3039           50.39\n",
              "580  581.0  1334  F  F45/49       21             3389           56.29\n",
              "581  582.0  1581  F  F35/39       36             3411           56.51\n",
              "582  583.0  1063  F  F45/49       22             3413           56.53\n",
              "583  584.0  1300  F  F25/29       32             3413           56.53\n",
              "584  585.0  1620  F  F55/59       24             3414           56.54\n",
              "585  586.0  1463  F  F35/39       37             3415           56.55\n",
              "586  587.0  1267  F  F40/44       26             3563           59.23\n",
              "587  588.0  1122  F  F65/69        5             3948           65.48\n",
              "588  589.0  1034  M  M40/44       36             3973           66.13\n",
              "589  590.0  1015  M  M40/44       37             4356           72.36"
            ]
          },
          "metadata": {
            "tags": []
          },
          "execution_count": 21
        }
      ]
    },
    {
      "metadata": {
        "id": "T40LlJNEhXCk",
        "colab_type": "code",
        "colab": {}
      },
      "cell_type": "code",
      "source": [
        "df_fem = df[df['Sx'] == 'F']\n",
        "df_fem = df_fem.reset_index()\n",
        "\n",
        "df_mas = df[df['Sx'] == 'M']\n",
        "df_mas = df_mas.reset_index()"
      ],
      "execution_count": 0,
      "outputs": []
    },
    {
      "metadata": {
        "id": "Mi8Qf9B1j0pL",
        "colab_type": "code",
        "outputId": "2f1a2ce9-7764-488d-bea0-d3ac613e6aab",
        "colab": {
          "base_uri": "https://localhost:8080/",
          "height": 204
        }
      },
      "cell_type": "code",
      "source": [
        "df_fem.tail()"
      ],
      "execution_count": 23,
      "outputs": [
        {
          "output_type": "execute_result",
          "data": {
            "text/html": [
              "<div>\n",
              "<style scoped>\n",
              "    .dataframe tbody tr th:only-of-type {\n",
              "        vertical-align: middle;\n",
              "    }\n",
              "\n",
              "    .dataframe tbody tr th {\n",
              "        vertical-align: top;\n",
              "    }\n",
              "\n",
              "    .dataframe thead th {\n",
              "        text-align: right;\n",
              "    }\n",
              "</style>\n",
              "<table border=\"1\" class=\"dataframe\">\n",
              "  <thead>\n",
              "    <tr style=\"text-align: right;\">\n",
              "      <th></th>\n",
              "      <th>index</th>\n",
              "      <th>Col</th>\n",
              "      <th>Num</th>\n",
              "      <th>Sx</th>\n",
              "      <th>Cat</th>\n",
              "      <th>Col.Cat</th>\n",
              "      <th>TempoEmSegundos</th>\n",
              "      <th>TempoEmMinutos</th>\n",
              "    </tr>\n",
              "  </thead>\n",
              "  <tbody>\n",
              "    <tr>\n",
              "      <th>247</th>\n",
              "      <td>583</td>\n",
              "      <td>584.0</td>\n",
              "      <td>1300</td>\n",
              "      <td>F</td>\n",
              "      <td>F25/29</td>\n",
              "      <td>32</td>\n",
              "      <td>3413</td>\n",
              "      <td>56.53</td>\n",
              "    </tr>\n",
              "    <tr>\n",
              "      <th>248</th>\n",
              "      <td>584</td>\n",
              "      <td>585.0</td>\n",
              "      <td>1620</td>\n",
              "      <td>F</td>\n",
              "      <td>F55/59</td>\n",
              "      <td>24</td>\n",
              "      <td>3414</td>\n",
              "      <td>56.54</td>\n",
              "    </tr>\n",
              "    <tr>\n",
              "      <th>249</th>\n",
              "      <td>585</td>\n",
              "      <td>586.0</td>\n",
              "      <td>1463</td>\n",
              "      <td>F</td>\n",
              "      <td>F35/39</td>\n",
              "      <td>37</td>\n",
              "      <td>3415</td>\n",
              "      <td>56.55</td>\n",
              "    </tr>\n",
              "    <tr>\n",
              "      <th>250</th>\n",
              "      <td>586</td>\n",
              "      <td>587.0</td>\n",
              "      <td>1267</td>\n",
              "      <td>F</td>\n",
              "      <td>F40/44</td>\n",
              "      <td>26</td>\n",
              "      <td>3563</td>\n",
              "      <td>59.23</td>\n",
              "    </tr>\n",
              "    <tr>\n",
              "      <th>251</th>\n",
              "      <td>587</td>\n",
              "      <td>588.0</td>\n",
              "      <td>1122</td>\n",
              "      <td>F</td>\n",
              "      <td>F65/69</td>\n",
              "      <td>5</td>\n",
              "      <td>3948</td>\n",
              "      <td>65.48</td>\n",
              "    </tr>\n",
              "  </tbody>\n",
              "</table>\n",
              "</div>"
            ],
            "text/plain": [
              "     index    Col   Num Sx     Cat  Col.Cat  TempoEmSegundos  TempoEmMinutos\n",
              "247    583  584.0  1300  F  F25/29       32             3413           56.53\n",
              "248    584  585.0  1620  F  F55/59       24             3414           56.54\n",
              "249    585  586.0  1463  F  F35/39       37             3415           56.55\n",
              "250    586  587.0  1267  F  F40/44       26             3563           59.23\n",
              "251    587  588.0  1122  F  F65/69        5             3948           65.48"
            ]
          },
          "metadata": {
            "tags": []
          },
          "execution_count": 23
        }
      ]
    },
    {
      "metadata": {
        "id": "3LdVD5SEjFil",
        "colab_type": "code",
        "outputId": "d6ac53a4-bad9-467e-e6a5-baeb95dbd1fc",
        "colab": {
          "base_uri": "https://localhost:8080/",
          "height": 294
        }
      },
      "cell_type": "code",
      "source": [
        "sns.boxplot(palette=[\"m\", \"g\"], data=df_fem['TempoEmMinutos'])"
      ],
      "execution_count": 24,
      "outputs": [
        {
          "output_type": "execute_result",
          "data": {
            "text/plain": [
              "<matplotlib.axes._subplots.AxesSubplot at 0x7fd90c88b438>"
            ]
          },
          "metadata": {
            "tags": []
          },
          "execution_count": 24
        },
        {
          "output_type": "display_data",
          "data": {
            "image/png": "[encoded data removed]",
            "text/plain": [
              "<matplotlib.figure.Figure at 0x7fd90c8e5668>"
            ]
          },
          "metadata": {
            "tags": []
          }
        }
      ]
    },
    {
      "metadata": {
        "id": "nhPoInJFhif1",
        "colab_type": "code",
        "outputId": "5d68c935-6222-418a-8678-e5bdbe8f11e4",
        "colab": {
          "base_uri": "https://localhost:8080/",
          "height": 309
        }
      },
      "cell_type": "code",
      "source": [
        "sns.set_style('darkgrid')\n",
        "sns.distplot(df_mas['TempoEmMinutos'], bins=40)"
      ],
      "execution_count": 25,
      "outputs": [
        {
          "output_type": "execute_result",
          "data": {
            "text/plain": [
              "<matplotlib.axes._subplots.AxesSubplot at 0x7fd90f6d4da0>"
            ]
          },
          "metadata": {
            "tags": []
          },
          "execution_count": 25
        },
        {
          "output_type": "display_data",
          "data": {
            "image/png": "[encoded data removed]",
            "text/plain": [
              "<matplotlib.figure.Figure at 0x7fd90f6cdeb8>"
            ]
          },
          "metadata": {
            "tags": []
          }
        }
      ]
    },
    {
      "metadata": {
        "id": "WTw43lRNkdDa",
        "colab_type": "code",
        "outputId": "0a2b7c94-e1e6-4cfa-8296-8cb6e6789982",
        "colab": {
          "base_uri": "https://localhost:8080/",
          "height": 810
        }
      },
      "cell_type": "code",
      "source": [
        "cats = sorted(list(df_fem['Cat'].unique()))\n",
        "f, ax = plt.subplots(figsize=(12, 6))\n",
        "plot = sns.catplot(x=\"Cat\", y=\"TempoEmSegundos\", kind=\"swarm\", order=cats, data=df_fem, ax=ax)\n",
        "plot"
      ],
      "execution_count": 26,
      "outputs": [
        {
          "output_type": "execute_result",
          "data": {
            "text/plain": [
              "<seaborn.axisgrid.FacetGrid at 0x7fd90c6c8780>"
            ]
          },
          "metadata": {
            "tags": []
          },
          "execution_count": 26
        },
        {
          "output_type": "stream",
          "text": [
            "/usr/local/lib/python3.6/dist-packages/matplotlib/collections.py:590: FutureWarning: elementwise comparison failed; returning scalar instead, but in the future will perform elementwise comparison\n",
            "  if self._edgecolors == str('face'):\n"
          ],
          "name": "stderr"
        },
        {
          "output_type": "display_data",
          "data": {
            "image/png": "[encoded data removed]",
            "text/plain": [
              "<matplotlib.figure.Figure at 0x7fd90c741c18>"
            ]
          },
          "metadata": {
            "tags": []
          }
        },
        {
          "output_type": "display_data",
          "data": {
            "image/png": "[encoded data removed]",
            "text/plain": [
              "<matplotlib.figure.Figure at 0x7fd90c6c87f0>"
            ]
          },
          "metadata": {
            "tags": []
          }
        }
      ]
    },
    {
      "metadata": {
        "id": "NBzscZTSpA3H",
        "colab_type": "code",
        "outputId": "349a7923-b3d3-4d7d-af6e-a9ac7f351429",
        "colab": {
          "base_uri": "https://localhost:8080/",
          "height": 204
        }
      },
      "cell_type": "code",
      "source": [
        "df_mas.head()"
      ],
      "execution_count": 27,
      "outputs": [
        {
          "output_type": "execute_result",
          "data": {
            "text/html": [
              "<div>\n",
              "<style scoped>\n",
              "    .dataframe tbody tr th:only-of-type {\n",
              "        vertical-align: middle;\n",
              "    }\n",
              "\n",
              "    .dataframe tbody tr th {\n",
              "        vertical-align: top;\n",
              "    }\n",
              "\n",
              "    .dataframe thead th {\n",
              "        text-align: right;\n",
              "    }\n",
              "</style>\n",
              "<table border=\"1\" class=\"dataframe\">\n",
              "  <thead>\n",
              "    <tr style=\"text-align: right;\">\n",
              "      <th></th>\n",
              "      <th>index</th>\n",
              "      <th>Col</th>\n",
              "      <th>Num</th>\n",
              "      <th>Sx</th>\n",
              "      <th>Cat</th>\n",
              "      <th>Col.Cat</th>\n",
              "      <th>TempoEmSegundos</th>\n",
              "      <th>TempoEmMinutos</th>\n",
              "    </tr>\n",
              "  </thead>\n",
              "  <tbody>\n",
              "    <tr>\n",
              "      <th>0</th>\n",
              "      <td>0</td>\n",
              "      <td>1.0</td>\n",
              "      <td>1478</td>\n",
              "      <td>M</td>\n",
              "      <td>VENC.M</td>\n",
              "      <td>1</td>\n",
              "      <td>702</td>\n",
              "      <td>11.42</td>\n",
              "    </tr>\n",
              "    <tr>\n",
              "      <th>1</th>\n",
              "      <td>1</td>\n",
              "      <td>2.0</td>\n",
              "      <td>1271</td>\n",
              "      <td>M</td>\n",
              "      <td>VENC.M</td>\n",
              "      <td>2</td>\n",
              "      <td>732</td>\n",
              "      <td>12.12</td>\n",
              "    </tr>\n",
              "    <tr>\n",
              "      <th>2</th>\n",
              "      <td>2</td>\n",
              "      <td>3.0</td>\n",
              "      <td>1151</td>\n",
              "      <td>M</td>\n",
              "      <td>VENC.M</td>\n",
              "      <td>3</td>\n",
              "      <td>738</td>\n",
              "      <td>12.18</td>\n",
              "    </tr>\n",
              "    <tr>\n",
              "      <th>3</th>\n",
              "      <td>3</td>\n",
              "      <td>4.0</td>\n",
              "      <td>1026</td>\n",
              "      <td>M</td>\n",
              "      <td>M40/44</td>\n",
              "      <td>1</td>\n",
              "      <td>810</td>\n",
              "      <td>13.30</td>\n",
              "    </tr>\n",
              "    <tr>\n",
              "      <th>4</th>\n",
              "      <td>4</td>\n",
              "      <td>5.0</td>\n",
              "      <td>1099</td>\n",
              "      <td>M</td>\n",
              "      <td>M30/34</td>\n",
              "      <td>1</td>\n",
              "      <td>813</td>\n",
              "      <td>13.33</td>\n",
              "    </tr>\n",
              "  </tbody>\n",
              "</table>\n",
              "</div>"
            ],
            "text/plain": [
              "   index  Col   Num Sx     Cat  Col.Cat  TempoEmSegundos  TempoEmMinutos\n",
              "0      0  1.0  1478  M  VENC.M        1              702           11.42\n",
              "1      1  2.0  1271  M  VENC.M        2              732           12.12\n",
              "2      2  3.0  1151  M  VENC.M        3              738           12.18\n",
              "3      3  4.0  1026  M  M40/44        1              810           13.30\n",
              "4      4  5.0  1099  M  M30/34        1              813           13.33"
            ]
          },
          "metadata": {
            "tags": []
          },
          "execution_count": 27
        }
      ]
    },
    {
      "metadata": {
        "id": "hclWEVg7iFFV",
        "colab_type": "code",
        "outputId": "f6f03f34-7c12-4a90-a762-bd22df93ff1a",
        "colab": {
          "base_uri": "https://localhost:8080/",
          "height": 810
        }
      },
      "cell_type": "code",
      "source": [
        "cats = sorted(list(df_mas['Cat'].unique()))\n",
        "\n",
        "f, ax = plt.subplots(figsize=(12,6))\n",
        "plot = sns.catplot(x=\"Cat\", y=\"TempoEmMinutos\", kind=\"swarm\", order=cats, data=df_mas, ax=ax)\n",
        "plot.set_xlabels(\"Categoria\")\n",
        "plot"
      ],
      "execution_count": 28,
      "outputs": [
        {
          "output_type": "execute_result",
          "data": {
            "text/plain": [
              "<seaborn.axisgrid.FacetGrid at 0x7fd90c58e400>"
            ]
          },
          "metadata": {
            "tags": []
          },
          "execution_count": 28
        },
        {
          "output_type": "stream",
          "text": [
            "/usr/local/lib/python3.6/dist-packages/matplotlib/collections.py:590: FutureWarning: elementwise comparison failed; returning scalar instead, but in the future will perform elementwise comparison\n",
            "  if self._edgecolors == str('face'):\n"
          ],
          "name": "stderr"
        },
        {
          "output_type": "display_data",
          "data": {
            "image/png": "[encoded data removed]",
            "text/plain": [
              "<matplotlib.figure.Figure at 0x7fd90c5abbe0>"
            ]
          },
          "metadata": {
            "tags": []
          }
        },
        {
          "output_type": "display_data",
          "data": {
            "image/png": "[encoded data removed]",
            "text/plain": [
              "<matplotlib.figure.Figure at 0x7fd90f3878d0>"
            ]
          },
          "metadata": {
            "tags": []
          }
        }
      ]
    },
    {
      "metadata": {
        "id": "DheUA5WuAFOd",
        "colab_type": "code",
        "colab": {}
      },
      "cell_type": "code",
      "source": [
        "df_mas['Categoria'] = df_mas['Cat'].apply(lambda s: s if s.startswith('V') else s[1:])\n",
        "df_fem['Categoria'] = df_fem['Cat'].apply(lambda s: s if s.startswith('V') else s[1:])"
      ],
      "execution_count": 0,
      "outputs": []
    },
    {
      "metadata": {
        "id": "7f_gVAkqr1WR",
        "colab_type": "code",
        "outputId": "4489f1e4-11d6-4ac0-83a8-4edf41733f74",
        "colab": {
          "base_uri": "https://localhost:8080/",
          "height": 545
        }
      },
      "cell_type": "code",
      "source": [
        "challange_mas_grouped = df_mas.groupby(['Categoria']).agg({'TempoEmMinutos': ['size','mean']})\n",
        "challange_fem_grouped = df_fem.groupby(['Categoria']).agg({'TempoEmMinutos': ['size','mean']})\n",
        "challange_mas_grouped"
      ],
      "execution_count": 30,
      "outputs": [
        {
          "output_type": "execute_result",
          "data": {
            "text/html": [
              "<div>\n",
              "<style scoped>\n",
              "    .dataframe tbody tr th:only-of-type {\n",
              "        vertical-align: middle;\n",
              "    }\n",
              "\n",
              "    .dataframe tbody tr th {\n",
              "        vertical-align: top;\n",
              "    }\n",
              "\n",
              "    .dataframe thead tr th {\n",
              "        text-align: left;\n",
              "    }\n",
              "\n",
              "    .dataframe thead tr:last-of-type th {\n",
              "        text-align: right;\n",
              "    }\n",
              "</style>\n",
              "<table border=\"1\" class=\"dataframe\">\n",
              "  <thead>\n",
              "    <tr>\n",
              "      <th></th>\n",
              "      <th colspan=\"2\" halign=\"left\">TempoEmMinutos</th>\n",
              "    </tr>\n",
              "    <tr>\n",
              "      <th></th>\n",
              "      <th>size</th>\n",
              "      <th>mean</th>\n",
              "    </tr>\n",
              "    <tr>\n",
              "      <th>Categoria</th>\n",
              "      <th></th>\n",
              "      <th></th>\n",
              "    </tr>\n",
              "  </thead>\n",
              "  <tbody>\n",
              "    <tr>\n",
              "      <th>14/16</th>\n",
              "      <td>28</td>\n",
              "      <td>20.032857</td>\n",
              "    </tr>\n",
              "    <tr>\n",
              "      <th>17/19</th>\n",
              "      <td>21</td>\n",
              "      <td>21.093333</td>\n",
              "    </tr>\n",
              "    <tr>\n",
              "      <th>20/24</th>\n",
              "      <td>17</td>\n",
              "      <td>22.510588</td>\n",
              "    </tr>\n",
              "    <tr>\n",
              "      <th>25/29</th>\n",
              "      <td>23</td>\n",
              "      <td>26.142609</td>\n",
              "    </tr>\n",
              "    <tr>\n",
              "      <th>30/34</th>\n",
              "      <td>37</td>\n",
              "      <td>24.245135</td>\n",
              "    </tr>\n",
              "    <tr>\n",
              "      <th>35/39</th>\n",
              "      <td>47</td>\n",
              "      <td>23.748085</td>\n",
              "    </tr>\n",
              "    <tr>\n",
              "      <th>40/44</th>\n",
              "      <td>37</td>\n",
              "      <td>25.042432</td>\n",
              "    </tr>\n",
              "    <tr>\n",
              "      <th>45/49</th>\n",
              "      <td>30</td>\n",
              "      <td>23.136333</td>\n",
              "    </tr>\n",
              "    <tr>\n",
              "      <th>50/54</th>\n",
              "      <td>29</td>\n",
              "      <td>25.573448</td>\n",
              "    </tr>\n",
              "    <tr>\n",
              "      <th>55/59</th>\n",
              "      <td>27</td>\n",
              "      <td>24.681111</td>\n",
              "    </tr>\n",
              "    <tr>\n",
              "      <th>60/64</th>\n",
              "      <td>18</td>\n",
              "      <td>23.855556</td>\n",
              "    </tr>\n",
              "    <tr>\n",
              "      <th>65/69</th>\n",
              "      <td>12</td>\n",
              "      <td>28.650000</td>\n",
              "    </tr>\n",
              "    <tr>\n",
              "      <th>70+</th>\n",
              "      <td>9</td>\n",
              "      <td>28.023333</td>\n",
              "    </tr>\n",
              "    <tr>\n",
              "      <th>VENC.M</th>\n",
              "      <td>3</td>\n",
              "      <td>11.906667</td>\n",
              "    </tr>\n",
              "  </tbody>\n",
              "</table>\n",
              "</div>"
            ],
            "text/plain": [
              "          TempoEmMinutos           \n",
              "                    size       mean\n",
              "Categoria                          \n",
              "14/16                 28  20.032857\n",
              "17/19                 21  21.093333\n",
              "20/24                 17  22.510588\n",
              "25/29                 23  26.142609\n",
              "30/34                 37  24.245135\n",
              "35/39                 47  23.748085\n",
              "40/44                 37  25.042432\n",
              "45/49                 30  23.136333\n",
              "50/54                 29  25.573448\n",
              "55/59                 27  24.681111\n",
              "60/64                 18  23.855556\n",
              "65/69                 12  28.650000\n",
              "70+                    9  28.023333\n",
              "VENC.M                 3  11.906667"
            ]
          },
          "metadata": {
            "tags": []
          },
          "execution_count": 30
        }
      ]
    },
    {
      "metadata": {
        "id": "HGCZ3z2AEB7-",
        "colab_type": "code",
        "colab": {}
      },
      "cell_type": "code",
      "source": [
        "challange_mas_grouped.rename(columns={'size':'Qtd(M)','mean':'Tempo media(M)'},inplace=True)\n",
        "challange_fem_grouped.rename(columns={'size':'Qtd(F)','mean':'Tempo media(F)'},inplace=True)\n",
        "\n",
        "df_new = pd.concat([challange_mas_grouped, challange_fem_grouped], axis=1)\n",
        "df_new.columns = df_new.columns.droplevel(0)\n",
        "\n",
        "df_new['Qtd(M)'] = df_new['Qtd(M)'].fillna(0.0).astype(int)\n",
        "df_new['Qtd(F)'] = df_new['Qtd(F)'].fillna(0.0).astype(int)\n",
        "\n",
        "df_new['Tempo media(M)'] = df_new['Tempo media(M)'].fillna(0.0).astype(int)\n",
        "df_new['Tempo media(F)'] = df_new['Tempo media(F)'].fillna(0.0).astype(int)\n"
      ],
      "execution_count": 0,
      "outputs": []
    },
    {
      "metadata": {
        "id": "w0_3Rj1f9Yyk",
        "colab_type": "code",
        "colab": {}
      },
      "cell_type": "code",
      "source": [
        "total = 692\n",
        "completaram = df.shape[0]\n",
        "percent_compl = round(completaram / total * 100,2)"
      ],
      "execution_count": 0,
      "outputs": []
    },
    {
      "metadata": {
        "id": "cqGysydWC4q8",
        "colab_type": "code",
        "colab": {}
      },
      "cell_type": "code",
      "source": [
        "group_sx = df['Sx'].value_counts()\n",
        "qtd_masc = group_sx[0]\n",
        "qtd_fem = group_sx[1]\n",
        "percent_masc = round(qtd_masc / total * 100,2)\n",
        "percent_fem = round(qtd_fem / total * 100,2)"
      ],
      "execution_count": 0,
      "outputs": []
    },
    {
      "metadata": {
        "id": "AIZK17WBJ4G4",
        "colab_type": "code",
        "outputId": "6a8bd234-1a0e-454d-86cc-b1d55b9f703b",
        "colab": {
          "base_uri": "https://localhost:8080/",
          "height": 34
        }
      },
      "cell_type": "code",
      "source": [
        "df['TempoEmMinutos'].mean().round(2)"
      ],
      "execution_count": 38,
      "outputs": [
        {
          "output_type": "execute_result",
          "data": {
            "text/plain": [
              "25.5"
            ]
          },
          "metadata": {
            "tags": []
          },
          "execution_count": 38
        }
      ]
    },
    {
      "metadata": {
        "id": "dpRUIRgcICgG",
        "colab_type": "code",
        "outputId": "966e5f45-356c-465f-ffca-d42179ca1ad9",
        "colab": {
          "base_uri": "https://localhost:8080/",
          "height": 34
        }
      },
      "cell_type": "code",
      "source": [
        "df_tempo = df.groupby('Sx')['TempoEmMinutos'].mean().round(2)\n",
        "tempo_media_masc = df_tempo[1]\n",
        "tempo_media_fem  = df_tempo[0]\n",
        "tempo_geral = df['TempoEmMinutos'].mean().round(2)\n",
        "\n",
        "tempo_media_fem"
      ],
      "execution_count": 39,
      "outputs": [
        {
          "output_type": "execute_result",
          "data": {
            "text/plain": [
              "27.59"
            ]
          },
          "metadata": {
            "tags": []
          },
          "execution_count": 39
        }
      ]
    },
    {
      "metadata": {
        "id": "N1UTu4CrEUQM",
        "colab_type": "code",
        "outputId": "ccf5a877-c255-4625-a3b9-a2d8c18e18a0",
        "colab": {
          "base_uri": "https://localhost:8080/",
          "height": 616
        }
      },
      "cell_type": "code",
      "source": [
        "print(f\"Prova Sprint - 1.0 km - Copacabana - 22/12/2018\")\n",
        "print(f\"Participantes: {total} / Completaram: {completaram} ({percent_compl}%)\")\n",
        "print(f\"Qtd por sexo: {qtd_fem} ({percent_fem}%) (F) / {qtd_masc} ({percent_masc}%) (M)\")\n",
        "print(f\"Tempo media (Minutos): {tempo_media_fem} (F) / {tempo_media_masc} (M), {tempo_geral} (Geral)\")\n",
        "print()\n",
        "print(\"Por categoria, dividido entre homens (M) e mulheres (F)\")\n",
        "df_new"
      ],
      "execution_count": 40,
      "outputs": [
        {
          "output_type": "stream",
          "text": [
            "Prova Sprint - 1.0 km - Copacabana - 22/12/2018\n",
            "Participantes: 692 / Completaram: 590 (85.26%)\n",
            "Qtd por sexo: 252 (36.42%) (F) / 338 (48.84%) (M)\n",
            "Tempo media (Minutos): 27.59 (F) / 23.94 (M), 25.5 (Geral)\n",
            "\n",
            "Por categoria, dividido entre homens (M) e mulheres (F)\n"
          ],
          "name": "stdout"
        },
        {
          "output_type": "execute_result",
          "data": {
            "text/html": [
              "<div>\n",
              "<style scoped>\n",
              "    .dataframe tbody tr th:only-of-type {\n",
              "        vertical-align: middle;\n",
              "    }\n",
              "\n",
              "    .dataframe tbody tr th {\n",
              "        vertical-align: top;\n",
              "    }\n",
              "\n",
              "    .dataframe thead th {\n",
              "        text-align: right;\n",
              "    }\n",
              "</style>\n",
              "<table border=\"1\" class=\"dataframe\">\n",
              "  <thead>\n",
              "    <tr style=\"text-align: right;\">\n",
              "      <th></th>\n",
              "      <th>Qtd(M)</th>\n",
              "      <th>Tempo media(M)</th>\n",
              "      <th>Qtd(F)</th>\n",
              "      <th>Tempo media(F)</th>\n",
              "    </tr>\n",
              "  </thead>\n",
              "  <tbody>\n",
              "    <tr>\n",
              "      <th>14/16</th>\n",
              "      <td>28</td>\n",
              "      <td>20</td>\n",
              "      <td>9</td>\n",
              "      <td>20</td>\n",
              "    </tr>\n",
              "    <tr>\n",
              "      <th>17/19</th>\n",
              "      <td>21</td>\n",
              "      <td>21</td>\n",
              "      <td>3</td>\n",
              "      <td>18</td>\n",
              "    </tr>\n",
              "    <tr>\n",
              "      <th>20/24</th>\n",
              "      <td>17</td>\n",
              "      <td>22</td>\n",
              "      <td>14</td>\n",
              "      <td>22</td>\n",
              "    </tr>\n",
              "    <tr>\n",
              "      <th>25/29</th>\n",
              "      <td>23</td>\n",
              "      <td>26</td>\n",
              "      <td>32</td>\n",
              "      <td>25</td>\n",
              "    </tr>\n",
              "    <tr>\n",
              "      <th>30/34</th>\n",
              "      <td>37</td>\n",
              "      <td>24</td>\n",
              "      <td>26</td>\n",
              "      <td>27</td>\n",
              "    </tr>\n",
              "    <tr>\n",
              "      <th>35/39</th>\n",
              "      <td>47</td>\n",
              "      <td>23</td>\n",
              "      <td>37</td>\n",
              "      <td>28</td>\n",
              "    </tr>\n",
              "    <tr>\n",
              "      <th>40/44</th>\n",
              "      <td>37</td>\n",
              "      <td>25</td>\n",
              "      <td>26</td>\n",
              "      <td>26</td>\n",
              "    </tr>\n",
              "    <tr>\n",
              "      <th>45/49</th>\n",
              "      <td>30</td>\n",
              "      <td>23</td>\n",
              "      <td>22</td>\n",
              "      <td>30</td>\n",
              "    </tr>\n",
              "    <tr>\n",
              "      <th>50/54</th>\n",
              "      <td>29</td>\n",
              "      <td>25</td>\n",
              "      <td>31</td>\n",
              "      <td>27</td>\n",
              "    </tr>\n",
              "    <tr>\n",
              "      <th>55/59</th>\n",
              "      <td>27</td>\n",
              "      <td>24</td>\n",
              "      <td>24</td>\n",
              "      <td>28</td>\n",
              "    </tr>\n",
              "    <tr>\n",
              "      <th>60/64</th>\n",
              "      <td>18</td>\n",
              "      <td>23</td>\n",
              "      <td>15</td>\n",
              "      <td>30</td>\n",
              "    </tr>\n",
              "    <tr>\n",
              "      <th>65/69</th>\n",
              "      <td>12</td>\n",
              "      <td>28</td>\n",
              "      <td>5</td>\n",
              "      <td>38</td>\n",
              "    </tr>\n",
              "    <tr>\n",
              "      <th>70+</th>\n",
              "      <td>9</td>\n",
              "      <td>28</td>\n",
              "      <td>5</td>\n",
              "      <td>36</td>\n",
              "    </tr>\n",
              "    <tr>\n",
              "      <th>VENC.F</th>\n",
              "      <td>0</td>\n",
              "      <td>0</td>\n",
              "      <td>3</td>\n",
              "      <td>14</td>\n",
              "    </tr>\n",
              "    <tr>\n",
              "      <th>VENC.M</th>\n",
              "      <td>3</td>\n",
              "      <td>11</td>\n",
              "      <td>0</td>\n",
              "      <td>0</td>\n",
              "    </tr>\n",
              "  </tbody>\n",
              "</table>\n",
              "</div>"
            ],
            "text/plain": [
              "        Qtd(M)  Tempo media(M)  Qtd(F)  Tempo media(F)\n",
              "14/16       28              20       9              20\n",
              "17/19       21              21       3              18\n",
              "20/24       17              22      14              22\n",
              "25/29       23              26      32              25\n",
              "30/34       37              24      26              27\n",
              "35/39       47              23      37              28\n",
              "40/44       37              25      26              26\n",
              "45/49       30              23      22              30\n",
              "50/54       29              25      31              27\n",
              "55/59       27              24      24              28\n",
              "60/64       18              23      15              30\n",
              "65/69       12              28       5              38\n",
              "70+          9              28       5              36\n",
              "VENC.F       0               0       3              14\n",
              "VENC.M       3              11       0               0"
            ]
          },
          "metadata": {
            "tags": []
          },
          "execution_count": 40
        }
      ]
    },
    {
      "metadata": {
        "id": "DHbNW4BZ8eDz",
        "colab_type": "code",
        "colab": {}
      },
      "cell_type": "code",
      "source": [
        ""
      ],
      "execution_count": 0,
      "outputs": []
    }
  ]
}