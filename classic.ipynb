{
  "nbformat": 4,
  "nbformat_minor": 0,
  "metadata": {
    "colab": {
      "name": "challenge.ipynb",
      "version": "0.3.2",
      "provenance": []
    },
    "kernelspec": {
      "name": "python3",
      "display_name": "Python 3"
    }
  },
  "cells": [
    {
      "metadata": {
        "id": "DDL0r_WdBvkH",
        "colab_type": "code",
        "outputId": "6480d388-087d-44ac-f968-763ca75e1563",
        "colab": {
          "base_uri": "https://localhost:8080/",
          "height": 343
        }
      },
      "cell_type": "code",
      "source": [
        "!pip install seaborn==0.9.0 \n",
        "!pip install matplotlib==1.4.3\n",
        "!pip install duration"
      ],
      "execution_count": 1,
      "outputs": [
        {
          "output_type": "stream",
          "text": [
            "Requirement already satisfied: seaborn==0.9.0 in /usr/local/lib/python3.6/dist-packages (0.9.0)\n",
            "Requirement already satisfied: matplotlib>=1.4.3 in /usr/local/lib/python3.6/dist-packages (from seaborn==0.9.0) (1.4.3)\n",
            "Requirement already satisfied: pandas>=0.15.2 in /usr/local/lib/python3.6/dist-packages (from seaborn==0.9.0) (0.22.0)\n",
            "Requirement already satisfied: scipy>=0.14.0 in /usr/local/lib/python3.6/dist-packages (from seaborn==0.9.0) (1.1.0)\n",
            "Requirement already satisfied: numpy>=1.9.3 in /usr/local/lib/python3.6/dist-packages (from seaborn==0.9.0) (1.14.6)\n",
            "Requirement already satisfied: pyparsing>=1.5.6 in /usr/local/lib/python3.6/dist-packages (from matplotlib>=1.4.3->seaborn==0.9.0) (2.3.0)\n",
            "Requirement already satisfied: python-dateutil in /usr/local/lib/python3.6/dist-packages (from matplotlib>=1.4.3->seaborn==0.9.0) (2.5.3)\n",
            "Requirement already satisfied: nose>=0.11.1 in /usr/local/lib/python3.6/dist-packages (from matplotlib>=1.4.3->seaborn==0.9.0) (1.3.7)\n",
            "Requirement already satisfied: six>=1.4 in /usr/local/lib/python3.6/dist-packages (from matplotlib>=1.4.3->seaborn==0.9.0) (1.11.0)\n",
            "Requirement already satisfied: pytz in /usr/local/lib/python3.6/dist-packages (from matplotlib>=1.4.3->seaborn==0.9.0) (2018.7)\n",
            "Requirement already satisfied: matplotlib==1.4.3 in /usr/local/lib/python3.6/dist-packages (1.4.3)\n",
            "Requirement already satisfied: pyparsing>=1.5.6 in /usr/local/lib/python3.6/dist-packages (from matplotlib==1.4.3) (2.3.0)\n",
            "Requirement already satisfied: pytz in /usr/local/lib/python3.6/dist-packages (from matplotlib==1.4.3) (2018.7)\n",
            "Requirement already satisfied: nose>=0.11.1 in /usr/local/lib/python3.6/dist-packages (from matplotlib==1.4.3) (1.3.7)\n",
            "Requirement already satisfied: numpy>=1.6 in /usr/local/lib/python3.6/dist-packages (from matplotlib==1.4.3) (1.14.6)\n",
            "Requirement already satisfied: python-dateutil in /usr/local/lib/python3.6/dist-packages (from matplotlib==1.4.3) (2.5.3)\n",
            "Requirement already satisfied: six>=1.4 in /usr/local/lib/python3.6/dist-packages (from matplotlib==1.4.3) (1.11.0)\n",
            "Requirement already satisfied: duration in /usr/local/lib/python3.6/dist-packages (1.1.1)\n"
          ],
          "name": "stdout"
        }
      ]
    },
    {
      "metadata": {
        "id": "JYU0zu1FPMzF",
        "colab_type": "code",
        "colab": {}
      },
      "cell_type": "code",
      "source": [
        "import pandas as pd\n",
        "from duration import (\n",
        "    to_seconds\n",
        ")\n",
        "import seaborn as sns\n",
        "import matplotlib.pyplot as plt"
      ],
      "execution_count": 0,
      "outputs": []
    },
    {
      "metadata": {
        "id": "JLdB2ym0B-YO",
        "colab_type": "code",
        "outputId": "fd6f7713-688e-49a9-f2fe-9cc1805a41ee",
        "colab": {
          "base_uri": "https://localhost:8080/",
          "height": 34
        }
      },
      "cell_type": "code",
      "source": [
        "print(f\"Seaborn {sns.__version__}, Pandas {pd.__version__}\")"
      ],
      "execution_count": 3,
      "outputs": [
        {
          "output_type": "stream",
          "text": [
            "Seaborn 0.9.0, Pandas 0.22.0\n"
          ],
          "name": "stdout"
        }
      ]
    },
    {
      "metadata": {
        "id": "aaHjrTAIPhmo",
        "colab_type": "code",
        "colab": {}
      },
      "cell_type": "code",
      "source": [
        "dfs = pd.read_html('classic.html')[0]"
      ],
      "execution_count": 0,
      "outputs": []
    },
    {
      "metadata": {
        "id": "qC_PtRtVRBVT",
        "colab_type": "code",
        "colab": {}
      },
      "cell_type": "code",
      "source": [
        "df = dfs.drop(columns=['Nome', 'Clube/ Equipe'])"
      ],
      "execution_count": 0,
      "outputs": []
    },
    {
      "metadata": {
        "id": "PODEAPT0RDCd",
        "colab_type": "code",
        "outputId": "704fbc5a-d906-4f16-f9f5-ddc5b3a4a9e5",
        "colab": {
          "base_uri": "https://localhost:8080/",
          "height": 204
        }
      },
      "cell_type": "code",
      "source": [
        "df.head()"
      ],
      "execution_count": 40,
      "outputs": [
        {
          "output_type": "execute_result",
          "data": {
            "text/html": [
              "<div>\n",
              "<style scoped>\n",
              "    .dataframe tbody tr th:only-of-type {\n",
              "        vertical-align: middle;\n",
              "    }\n",
              "\n",
              "    .dataframe tbody tr th {\n",
              "        vertical-align: top;\n",
              "    }\n",
              "\n",
              "    .dataframe thead th {\n",
              "        text-align: right;\n",
              "    }\n",
              "</style>\n",
              "<table border=\"1\" class=\"dataframe\">\n",
              "  <thead>\n",
              "    <tr style=\"text-align: right;\">\n",
              "      <th></th>\n",
              "      <th>Col</th>\n",
              "      <th>Num</th>\n",
              "      <th>Sx</th>\n",
              "      <th>Cat</th>\n",
              "      <th>Tempo Oficial:</th>\n",
              "      <th>Col.Cat</th>\n",
              "    </tr>\n",
              "  </thead>\n",
              "  <tbody>\n",
              "    <tr>\n",
              "      <th>0</th>\n",
              "      <td>1.0</td>\n",
              "      <td>2556</td>\n",
              "      <td>M</td>\n",
              "      <td>VENC.M</td>\n",
              "      <td>00:26:36</td>\n",
              "      <td>1</td>\n",
              "    </tr>\n",
              "    <tr>\n",
              "      <th>1</th>\n",
              "      <td>2.0</td>\n",
              "      <td>2127</td>\n",
              "      <td>M</td>\n",
              "      <td>VENC.M</td>\n",
              "      <td>00:27:04</td>\n",
              "      <td>2</td>\n",
              "    </tr>\n",
              "    <tr>\n",
              "      <th>2</th>\n",
              "      <td>3.0</td>\n",
              "      <td>2158</td>\n",
              "      <td>M</td>\n",
              "      <td>VENC.M</td>\n",
              "      <td>00:27:37</td>\n",
              "      <td>3</td>\n",
              "    </tr>\n",
              "    <tr>\n",
              "      <th>3</th>\n",
              "      <td>4.0</td>\n",
              "      <td>2131</td>\n",
              "      <td>M</td>\n",
              "      <td>M30/34</td>\n",
              "      <td>00:27:48</td>\n",
              "      <td>1</td>\n",
              "    </tr>\n",
              "    <tr>\n",
              "      <th>4</th>\n",
              "      <td>5.0</td>\n",
              "      <td>2300</td>\n",
              "      <td>M</td>\n",
              "      <td>M14/16</td>\n",
              "      <td>00:27:51</td>\n",
              "      <td>1</td>\n",
              "    </tr>\n",
              "  </tbody>\n",
              "</table>\n",
              "</div>"
            ],
            "text/plain": [
              "   Col   Num Sx     Cat Tempo Oficial:  Col.Cat\n",
              "0  1.0  2556  M  VENC.M       00:26:36        1\n",
              "1  2.0  2127  M  VENC.M       00:27:04        2\n",
              "2  3.0  2158  M  VENC.M       00:27:37        3\n",
              "3  4.0  2131  M  M30/34       00:27:48        1\n",
              "4  5.0  2300  M  M14/16       00:27:51        1"
            ]
          },
          "metadata": {
            "tags": []
          },
          "execution_count": 40
        }
      ]
    },
    {
      "metadata": {
        "id": "HMIhzO7BYhG3",
        "colab_type": "code",
        "colab": {}
      },
      "cell_type": "code",
      "source": [
        "time = df.head(1)['Tempo Oficial:'][0]\n",
        "seconds = to_seconds(time, strict=False) # 91405"
      ],
      "execution_count": 0,
      "outputs": []
    },
    {
      "metadata": {
        "id": "GXXo5oY1YvK3",
        "colab_type": "code",
        "outputId": "885288dc-38d3-4e57-bcf2-d652c885bff5",
        "colab": {
          "base_uri": "https://localhost:8080/",
          "height": 34
        }
      },
      "cell_type": "code",
      "source": [
        "seconds, time"
      ],
      "execution_count": 42,
      "outputs": [
        {
          "output_type": "execute_result",
          "data": {
            "text/plain": [
              "(1596, '00:26:36')"
            ]
          },
          "metadata": {
            "tags": []
          },
          "execution_count": 42
        }
      ]
    },
    {
      "metadata": {
        "id": "-vPRByQm7Sz_",
        "colab_type": "code",
        "colab": {
          "base_uri": "https://localhost:8080/",
          "height": 34
        },
        "outputId": "a8ce8940-f198-4915-f0fc-58b59bf62b2a"
      },
      "cell_type": "code",
      "source": [
        "df.shape"
      ],
      "execution_count": 43,
      "outputs": [
        {
          "output_type": "execute_result",
          "data": {
            "text/plain": [
              "(496, 6)"
            ]
          },
          "metadata": {
            "tags": []
          },
          "execution_count": 43
        }
      ]
    },
    {
      "metadata": {
        "id": "aLpLR_FCZf1l",
        "colab_type": "code",
        "outputId": "46e3b49b-a65c-430f-f392-20ab2f8f1270",
        "colab": {
          "base_uri": "https://localhost:8080/",
          "height": 34
        }
      },
      "cell_type": "code",
      "source": [
        "52*60 + 12"
      ],
      "execution_count": 44,
      "outputs": [
        {
          "output_type": "execute_result",
          "data": {
            "text/plain": [
              "3132"
            ]
          },
          "metadata": {
            "tags": []
          },
          "execution_count": 44
        }
      ]
    },
    {
      "metadata": {
        "id": "FGrRQo6FdNMS",
        "colab_type": "code",
        "outputId": "d5deebe4-fb25-4bc4-b560-382ca4ea5dd7",
        "colab": {
          "base_uri": "https://localhost:8080/",
          "height": 119
        }
      },
      "cell_type": "code",
      "source": [
        "df['Tempo Oficial:'].head()"
      ],
      "execution_count": 45,
      "outputs": [
        {
          "output_type": "execute_result",
          "data": {
            "text/plain": [
              "0    00:26:36\n",
              "1    00:27:04\n",
              "2    00:27:37\n",
              "3    00:27:48\n",
              "4    00:27:51\n",
              "Name: Tempo Oficial:, dtype: object"
            ]
          },
          "metadata": {
            "tags": []
          },
          "execution_count": 45
        }
      ]
    },
    {
      "metadata": {
        "id": "gQ4CbDI_ZvRz",
        "colab_type": "code",
        "colab": {}
      },
      "cell_type": "code",
      "source": [
        "df['TempoEmSegundos'] = df['Tempo Oficial:'].apply(to_seconds)\n",
        "df['TempoEmSegundos'] = df['TempoEmSegundos'].round(2)"
      ],
      "execution_count": 0,
      "outputs": []
    },
    {
      "metadata": {
        "id": "vN3YURxOfy_L",
        "colab_type": "code",
        "colab": {}
      },
      "cell_type": "code",
      "source": [
        "def to_minutes(seconds):\n",
        "  minutes = seconds // 60\n",
        "  seconds = (seconds - (60 * minutes)) \n",
        "  return minutes + (seconds / 100)\n",
        "  \n",
        "\n",
        "df['TempoEmMinutos'] = df['TempoEmSegundos'].apply(to_minutes)"
      ],
      "execution_count": 0,
      "outputs": []
    },
    {
      "metadata": {
        "id": "D_YzYn1Fmrp5",
        "colab_type": "code",
        "colab": {}
      },
      "cell_type": "code",
      "source": [
        "df = df.drop(columns='Tempo Oficial:')"
      ],
      "execution_count": 0,
      "outputs": []
    },
    {
      "metadata": {
        "id": "SMMUlVyhcwo9",
        "colab_type": "code",
        "outputId": "4d7e243b-b6e6-43c1-a3b1-05af8b9f158e",
        "colab": {
          "base_uri": "https://localhost:8080/",
          "height": 204
        }
      },
      "cell_type": "code",
      "source": [
        "df.head()"
      ],
      "execution_count": 49,
      "outputs": [
        {
          "output_type": "execute_result",
          "data": {
            "text/html": [
              "<div>\n",
              "<style scoped>\n",
              "    .dataframe tbody tr th:only-of-type {\n",
              "        vertical-align: middle;\n",
              "    }\n",
              "\n",
              "    .dataframe tbody tr th {\n",
              "        vertical-align: top;\n",
              "    }\n",
              "\n",
              "    .dataframe thead th {\n",
              "        text-align: right;\n",
              "    }\n",
              "</style>\n",
              "<table border=\"1\" class=\"dataframe\">\n",
              "  <thead>\n",
              "    <tr style=\"text-align: right;\">\n",
              "      <th></th>\n",
              "      <th>Col</th>\n",
              "      <th>Num</th>\n",
              "      <th>Sx</th>\n",
              "      <th>Cat</th>\n",
              "      <th>Col.Cat</th>\n",
              "      <th>TempoEmSegundos</th>\n",
              "      <th>TempoEmMinutos</th>\n",
              "    </tr>\n",
              "  </thead>\n",
              "  <tbody>\n",
              "    <tr>\n",
              "      <th>0</th>\n",
              "      <td>1.0</td>\n",
              "      <td>2556</td>\n",
              "      <td>M</td>\n",
              "      <td>VENC.M</td>\n",
              "      <td>1</td>\n",
              "      <td>1596</td>\n",
              "      <td>26.36</td>\n",
              "    </tr>\n",
              "    <tr>\n",
              "      <th>1</th>\n",
              "      <td>2.0</td>\n",
              "      <td>2127</td>\n",
              "      <td>M</td>\n",
              "      <td>VENC.M</td>\n",
              "      <td>2</td>\n",
              "      <td>1624</td>\n",
              "      <td>27.04</td>\n",
              "    </tr>\n",
              "    <tr>\n",
              "      <th>2</th>\n",
              "      <td>3.0</td>\n",
              "      <td>2158</td>\n",
              "      <td>M</td>\n",
              "      <td>VENC.M</td>\n",
              "      <td>3</td>\n",
              "      <td>1657</td>\n",
              "      <td>27.37</td>\n",
              "    </tr>\n",
              "    <tr>\n",
              "      <th>3</th>\n",
              "      <td>4.0</td>\n",
              "      <td>2131</td>\n",
              "      <td>M</td>\n",
              "      <td>M30/34</td>\n",
              "      <td>1</td>\n",
              "      <td>1668</td>\n",
              "      <td>27.48</td>\n",
              "    </tr>\n",
              "    <tr>\n",
              "      <th>4</th>\n",
              "      <td>5.0</td>\n",
              "      <td>2300</td>\n",
              "      <td>M</td>\n",
              "      <td>M14/16</td>\n",
              "      <td>1</td>\n",
              "      <td>1671</td>\n",
              "      <td>27.51</td>\n",
              "    </tr>\n",
              "  </tbody>\n",
              "</table>\n",
              "</div>"
            ],
            "text/plain": [
              "   Col   Num Sx     Cat  Col.Cat  TempoEmSegundos  TempoEmMinutos\n",
              "0  1.0  2556  M  VENC.M        1             1596           26.36\n",
              "1  2.0  2127  M  VENC.M        2             1624           27.04\n",
              "2  3.0  2158  M  VENC.M        3             1657           27.37\n",
              "3  4.0  2131  M  M30/34        1             1668           27.48\n",
              "4  5.0  2300  M  M14/16        1             1671           27.51"
            ]
          },
          "metadata": {
            "tags": []
          },
          "execution_count": 49
        }
      ]
    },
    {
      "metadata": {
        "id": "APa6bsnhdofy",
        "colab_type": "code",
        "outputId": "457eefec-41df-463f-c6ef-5b491222c634",
        "colab": {
          "base_uri": "https://localhost:8080/",
          "height": 170
        }
      },
      "cell_type": "code",
      "source": [
        "df['TempoEmMinutos'].describe()"
      ],
      "execution_count": 51,
      "outputs": [
        {
          "output_type": "execute_result",
          "data": {
            "text/plain": [
              "count    496.000000\n",
              "mean      50.747399\n",
              "std       17.869707\n",
              "min       26.360000\n",
              "25%       41.277500\n",
              "50%       47.580000\n",
              "75%       55.490000\n",
              "max      218.530000\n",
              "Name: TempoEmMinutos, dtype: float64"
            ]
          },
          "metadata": {
            "tags": []
          },
          "execution_count": 51
        }
      ]
    },
    {
      "metadata": {
        "id": "ydnXMZP4nMwC",
        "colab_type": "code",
        "outputId": "f90d0db6-889b-4197-ef4c-f17eb0da959f",
        "colab": {
          "base_uri": "https://localhost:8080/",
          "height": 309
        }
      },
      "cell_type": "code",
      "source": [
        "sns.set_style('darkgrid')\n",
        "sns.distplot(df['TempoEmSegundos'], bins=40)"
      ],
      "execution_count": 52,
      "outputs": [
        {
          "output_type": "execute_result",
          "data": {
            "text/plain": [
              "<matplotlib.axes._subplots.AxesSubplot at 0x7f5ee9c69b38>"
            ]
          },
          "metadata": {
            "tags": []
          },
          "execution_count": 52
        },
        {
          "output_type": "display_data",
          "data": {
            "image/png": "[encoded data removed]",
            "text/plain": [
              "<matplotlib.figure.Figure at 0x7f5ee9c69470>"
            ]
          },
          "metadata": {
            "tags": []
          }
        }
      ]
    },
    {
      "metadata": {
        "id": "cpiP2-sJd0C3",
        "colab_type": "code",
        "outputId": "1f4f944e-56f2-4d4d-ace2-77a2278ee024",
        "colab": {
          "base_uri": "https://localhost:8080/",
          "height": 294
        }
      },
      "cell_type": "code",
      "source": [
        "fig = sns.boxplot( palette=[\"m\", \"g\"], data=df['TempoEmSegundos'])\n",
        "fig"
      ],
      "execution_count": 53,
      "outputs": [
        {
          "output_type": "execute_result",
          "data": {
            "text/plain": [
              "<matplotlib.axes._subplots.AxesSubplot at 0x7f5ee9c80b00>"
            ]
          },
          "metadata": {
            "tags": []
          },
          "execution_count": 53
        },
        {
          "output_type": "display_data",
          "data": {
            "image/png": "[encoded data removed]",
            "text/plain": [
              "<matplotlib.figure.Figure at 0x7f5eecffdf98>"
            ]
          },
          "metadata": {
            "tags": []
          }
        }
      ]
    },
    {
      "metadata": {
        "id": "RYiIMIpqgC6u",
        "colab_type": "code",
        "outputId": "090c093f-e003-4769-deea-9fb5d4bfdace",
        "colab": {
          "base_uri": "https://localhost:8080/",
          "height": 1071
        }
      },
      "cell_type": "code",
      "source": [
        "df['TempoEmSegundos'] > 7200"
      ],
      "execution_count": 54,
      "outputs": [
        {
          "output_type": "execute_result",
          "data": {
            "text/plain": [
              "0      False\n",
              "1      False\n",
              "2      False\n",
              "3      False\n",
              "4      False\n",
              "5      False\n",
              "6      False\n",
              "7      False\n",
              "8      False\n",
              "9      False\n",
              "10     False\n",
              "11     False\n",
              "12     False\n",
              "13     False\n",
              "14     False\n",
              "15     False\n",
              "16     False\n",
              "17     False\n",
              "18     False\n",
              "19     False\n",
              "20     False\n",
              "21     False\n",
              "22     False\n",
              "23     False\n",
              "24     False\n",
              "25     False\n",
              "26     False\n",
              "27     False\n",
              "28     False\n",
              "29     False\n",
              "       ...  \n",
              "466    False\n",
              "467    False\n",
              "468    False\n",
              "469    False\n",
              "470    False\n",
              "471    False\n",
              "472    False\n",
              "473    False\n",
              "474    False\n",
              "475    False\n",
              "476    False\n",
              "477    False\n",
              "478    False\n",
              "479    False\n",
              "480    False\n",
              "481    False\n",
              "482    False\n",
              "483    False\n",
              "484    False\n",
              "485    False\n",
              "486    False\n",
              "487    False\n",
              "488    False\n",
              "489    False\n",
              "490    False\n",
              "491     True\n",
              "492     True\n",
              "493     True\n",
              "494     True\n",
              "495     True\n",
              "Name: TempoEmSegundos, Length: 496, dtype: bool"
            ]
          },
          "metadata": {
            "tags": []
          },
          "execution_count": 54
        }
      ]
    },
    {
      "metadata": {
        "id": "0bxRRwLKgsTh",
        "colab_type": "code",
        "outputId": "f267cec3-5ede-42ec-a6d4-877dd3f5c3c8",
        "colab": {
          "base_uri": "https://localhost:8080/",
          "height": 204
        }
      },
      "cell_type": "code",
      "source": [
        "df.tail()"
      ],
      "execution_count": 55,
      "outputs": [
        {
          "output_type": "execute_result",
          "data": {
            "text/html": [
              "<div>\n",
              "<style scoped>\n",
              "    .dataframe tbody tr th:only-of-type {\n",
              "        vertical-align: middle;\n",
              "    }\n",
              "\n",
              "    .dataframe tbody tr th {\n",
              "        vertical-align: top;\n",
              "    }\n",
              "\n",
              "    .dataframe thead th {\n",
              "        text-align: right;\n",
              "    }\n",
              "</style>\n",
              "<table border=\"1\" class=\"dataframe\">\n",
              "  <thead>\n",
              "    <tr style=\"text-align: right;\">\n",
              "      <th></th>\n",
              "      <th>Col</th>\n",
              "      <th>Num</th>\n",
              "      <th>Sx</th>\n",
              "      <th>Cat</th>\n",
              "      <th>Col.Cat</th>\n",
              "      <th>TempoEmSegundos</th>\n",
              "      <th>TempoEmMinutos</th>\n",
              "    </tr>\n",
              "  </thead>\n",
              "  <tbody>\n",
              "    <tr>\n",
              "      <th>491</th>\n",
              "      <td>492.0</td>\n",
              "      <td>2469</td>\n",
              "      <td>F</td>\n",
              "      <td>F60/64</td>\n",
              "      <td>13</td>\n",
              "      <td>9288</td>\n",
              "      <td>154.48</td>\n",
              "    </tr>\n",
              "    <tr>\n",
              "      <th>492</th>\n",
              "      <td>493.0</td>\n",
              "      <td>2093</td>\n",
              "      <td>M</td>\n",
              "      <td>M45/49</td>\n",
              "      <td>35</td>\n",
              "      <td>9793</td>\n",
              "      <td>163.13</td>\n",
              "    </tr>\n",
              "    <tr>\n",
              "      <th>493</th>\n",
              "      <td>494.0</td>\n",
              "      <td>2291</td>\n",
              "      <td>F</td>\n",
              "      <td>F35/39</td>\n",
              "      <td>29</td>\n",
              "      <td>10276</td>\n",
              "      <td>171.16</td>\n",
              "    </tr>\n",
              "    <tr>\n",
              "      <th>494</th>\n",
              "      <td>495.0</td>\n",
              "      <td>2550</td>\n",
              "      <td>F</td>\n",
              "      <td>F35/39</td>\n",
              "      <td>30</td>\n",
              "      <td>10504</td>\n",
              "      <td>175.04</td>\n",
              "    </tr>\n",
              "    <tr>\n",
              "      <th>495</th>\n",
              "      <td>496.0</td>\n",
              "      <td>2493</td>\n",
              "      <td>M</td>\n",
              "      <td>M35/39</td>\n",
              "      <td>53</td>\n",
              "      <td>13133</td>\n",
              "      <td>218.53</td>\n",
              "    </tr>\n",
              "  </tbody>\n",
              "</table>\n",
              "</div>"
            ],
            "text/plain": [
              "       Col   Num Sx     Cat  Col.Cat  TempoEmSegundos  TempoEmMinutos\n",
              "491  492.0  2469  F  F60/64       13             9288          154.48\n",
              "492  493.0  2093  M  M45/49       35             9793          163.13\n",
              "493  494.0  2291  F  F35/39       29            10276          171.16\n",
              "494  495.0  2550  F  F35/39       30            10504          175.04\n",
              "495  496.0  2493  M  M35/39       53            13133          218.53"
            ]
          },
          "metadata": {
            "tags": []
          },
          "execution_count": 55
        }
      ]
    },
    {
      "metadata": {
        "id": "z6lPxmwLhI4t",
        "colab_type": "code",
        "outputId": "9d6fbd31-f8fd-401e-80bd-33d63dffff4f",
        "colab": {
          "base_uri": "https://localhost:8080/",
          "height": 669
        }
      },
      "cell_type": "code",
      "source": [
        "df.tail(20)"
      ],
      "execution_count": 56,
      "outputs": [
        {
          "output_type": "execute_result",
          "data": {
            "text/html": [
              "<div>\n",
              "<style scoped>\n",
              "    .dataframe tbody tr th:only-of-type {\n",
              "        vertical-align: middle;\n",
              "    }\n",
              "\n",
              "    .dataframe tbody tr th {\n",
              "        vertical-align: top;\n",
              "    }\n",
              "\n",
              "    .dataframe thead th {\n",
              "        text-align: right;\n",
              "    }\n",
              "</style>\n",
              "<table border=\"1\" class=\"dataframe\">\n",
              "  <thead>\n",
              "    <tr style=\"text-align: right;\">\n",
              "      <th></th>\n",
              "      <th>Col</th>\n",
              "      <th>Num</th>\n",
              "      <th>Sx</th>\n",
              "      <th>Cat</th>\n",
              "      <th>Col.Cat</th>\n",
              "      <th>TempoEmSegundos</th>\n",
              "      <th>TempoEmMinutos</th>\n",
              "    </tr>\n",
              "  </thead>\n",
              "  <tbody>\n",
              "    <tr>\n",
              "      <th>476</th>\n",
              "      <td>477.0</td>\n",
              "      <td>2405</td>\n",
              "      <td>F</td>\n",
              "      <td>F35/39</td>\n",
              "      <td>27</td>\n",
              "      <td>4730</td>\n",
              "      <td>78.50</td>\n",
              "    </tr>\n",
              "    <tr>\n",
              "      <th>477</th>\n",
              "      <td>478.0</td>\n",
              "      <td>2164</td>\n",
              "      <td>F</td>\n",
              "      <td>F30/34</td>\n",
              "      <td>17</td>\n",
              "      <td>4732</td>\n",
              "      <td>78.52</td>\n",
              "    </tr>\n",
              "    <tr>\n",
              "      <th>478</th>\n",
              "      <td>479.0</td>\n",
              "      <td>2542</td>\n",
              "      <td>M</td>\n",
              "      <td>M50/54</td>\n",
              "      <td>33</td>\n",
              "      <td>4749</td>\n",
              "      <td>79.09</td>\n",
              "    </tr>\n",
              "    <tr>\n",
              "      <th>479</th>\n",
              "      <td>480.0</td>\n",
              "      <td>2540</td>\n",
              "      <td>M</td>\n",
              "      <td>M25/29</td>\n",
              "      <td>31</td>\n",
              "      <td>4776</td>\n",
              "      <td>79.36</td>\n",
              "    </tr>\n",
              "    <tr>\n",
              "      <th>480</th>\n",
              "      <td>481.0</td>\n",
              "      <td>2216</td>\n",
              "      <td>F</td>\n",
              "      <td>F25/29</td>\n",
              "      <td>15</td>\n",
              "      <td>4792</td>\n",
              "      <td>79.52</td>\n",
              "    </tr>\n",
              "    <tr>\n",
              "      <th>481</th>\n",
              "      <td>482.0</td>\n",
              "      <td>2318</td>\n",
              "      <td>M</td>\n",
              "      <td>M35/39</td>\n",
              "      <td>52</td>\n",
              "      <td>4825</td>\n",
              "      <td>80.25</td>\n",
              "    </tr>\n",
              "    <tr>\n",
              "      <th>482</th>\n",
              "      <td>483.0</td>\n",
              "      <td>2097</td>\n",
              "      <td>M</td>\n",
              "      <td>M70+</td>\n",
              "      <td>7</td>\n",
              "      <td>4887</td>\n",
              "      <td>81.27</td>\n",
              "    </tr>\n",
              "    <tr>\n",
              "      <th>483</th>\n",
              "      <td>484.0</td>\n",
              "      <td>2415</td>\n",
              "      <td>F</td>\n",
              "      <td>F45/49</td>\n",
              "      <td>19</td>\n",
              "      <td>4941</td>\n",
              "      <td>82.21</td>\n",
              "    </tr>\n",
              "    <tr>\n",
              "      <th>484</th>\n",
              "      <td>485.0</td>\n",
              "      <td>2118</td>\n",
              "      <td>F</td>\n",
              "      <td>F50/54</td>\n",
              "      <td>23</td>\n",
              "      <td>5033</td>\n",
              "      <td>83.53</td>\n",
              "    </tr>\n",
              "    <tr>\n",
              "      <th>485</th>\n",
              "      <td>486.0</td>\n",
              "      <td>2200</td>\n",
              "      <td>M</td>\n",
              "      <td>M55/59</td>\n",
              "      <td>19</td>\n",
              "      <td>5217</td>\n",
              "      <td>86.57</td>\n",
              "    </tr>\n",
              "    <tr>\n",
              "      <th>486</th>\n",
              "      <td>487.0</td>\n",
              "      <td>2205</td>\n",
              "      <td>M</td>\n",
              "      <td>M40/44</td>\n",
              "      <td>53</td>\n",
              "      <td>5306</td>\n",
              "      <td>88.26</td>\n",
              "    </tr>\n",
              "    <tr>\n",
              "      <th>487</th>\n",
              "      <td>488.0</td>\n",
              "      <td>2032</td>\n",
              "      <td>F</td>\n",
              "      <td>F35/39</td>\n",
              "      <td>28</td>\n",
              "      <td>5515</td>\n",
              "      <td>91.55</td>\n",
              "    </tr>\n",
              "    <tr>\n",
              "      <th>488</th>\n",
              "      <td>489.0</td>\n",
              "      <td>2174</td>\n",
              "      <td>F</td>\n",
              "      <td>F40/44</td>\n",
              "      <td>28</td>\n",
              "      <td>5559</td>\n",
              "      <td>92.39</td>\n",
              "    </tr>\n",
              "    <tr>\n",
              "      <th>489</th>\n",
              "      <td>490.0</td>\n",
              "      <td>2170</td>\n",
              "      <td>F</td>\n",
              "      <td>F40/44</td>\n",
              "      <td>29</td>\n",
              "      <td>5905</td>\n",
              "      <td>98.25</td>\n",
              "    </tr>\n",
              "    <tr>\n",
              "      <th>490</th>\n",
              "      <td>491.0</td>\n",
              "      <td>2413</td>\n",
              "      <td>F</td>\n",
              "      <td>F60/64</td>\n",
              "      <td>12</td>\n",
              "      <td>6854</td>\n",
              "      <td>114.14</td>\n",
              "    </tr>\n",
              "    <tr>\n",
              "      <th>491</th>\n",
              "      <td>492.0</td>\n",
              "      <td>2469</td>\n",
              "      <td>F</td>\n",
              "      <td>F60/64</td>\n",
              "      <td>13</td>\n",
              "      <td>9288</td>\n",
              "      <td>154.48</td>\n",
              "    </tr>\n",
              "    <tr>\n",
              "      <th>492</th>\n",
              "      <td>493.0</td>\n",
              "      <td>2093</td>\n",
              "      <td>M</td>\n",
              "      <td>M45/49</td>\n",
              "      <td>35</td>\n",
              "      <td>9793</td>\n",
              "      <td>163.13</td>\n",
              "    </tr>\n",
              "    <tr>\n",
              "      <th>493</th>\n",
              "      <td>494.0</td>\n",
              "      <td>2291</td>\n",
              "      <td>F</td>\n",
              "      <td>F35/39</td>\n",
              "      <td>29</td>\n",
              "      <td>10276</td>\n",
              "      <td>171.16</td>\n",
              "    </tr>\n",
              "    <tr>\n",
              "      <th>494</th>\n",
              "      <td>495.0</td>\n",
              "      <td>2550</td>\n",
              "      <td>F</td>\n",
              "      <td>F35/39</td>\n",
              "      <td>30</td>\n",
              "      <td>10504</td>\n",
              "      <td>175.04</td>\n",
              "    </tr>\n",
              "    <tr>\n",
              "      <th>495</th>\n",
              "      <td>496.0</td>\n",
              "      <td>2493</td>\n",
              "      <td>M</td>\n",
              "      <td>M35/39</td>\n",
              "      <td>53</td>\n",
              "      <td>13133</td>\n",
              "      <td>218.53</td>\n",
              "    </tr>\n",
              "  </tbody>\n",
              "</table>\n",
              "</div>"
            ],
            "text/plain": [
              "       Col   Num Sx     Cat  Col.Cat  TempoEmSegundos  TempoEmMinutos\n",
              "476  477.0  2405  F  F35/39       27             4730           78.50\n",
              "477  478.0  2164  F  F30/34       17             4732           78.52\n",
              "478  479.0  2542  M  M50/54       33             4749           79.09\n",
              "479  480.0  2540  M  M25/29       31             4776           79.36\n",
              "480  481.0  2216  F  F25/29       15             4792           79.52\n",
              "481  482.0  2318  M  M35/39       52             4825           80.25\n",
              "482  483.0  2097  M    M70+        7             4887           81.27\n",
              "483  484.0  2415  F  F45/49       19             4941           82.21\n",
              "484  485.0  2118  F  F50/54       23             5033           83.53\n",
              "485  486.0  2200  M  M55/59       19             5217           86.57\n",
              "486  487.0  2205  M  M40/44       53             5306           88.26\n",
              "487  488.0  2032  F  F35/39       28             5515           91.55\n",
              "488  489.0  2174  F  F40/44       28             5559           92.39\n",
              "489  490.0  2170  F  F40/44       29             5905           98.25\n",
              "490  491.0  2413  F  F60/64       12             6854          114.14\n",
              "491  492.0  2469  F  F60/64       13             9288          154.48\n",
              "492  493.0  2093  M  M45/49       35             9793          163.13\n",
              "493  494.0  2291  F  F35/39       29            10276          171.16\n",
              "494  495.0  2550  F  F35/39       30            10504          175.04\n",
              "495  496.0  2493  M  M35/39       53            13133          218.53"
            ]
          },
          "metadata": {
            "tags": []
          },
          "execution_count": 56
        }
      ]
    },
    {
      "metadata": {
        "id": "T40LlJNEhXCk",
        "colab_type": "code",
        "colab": {}
      },
      "cell_type": "code",
      "source": [
        "df_fem = df[df['Sx'] == 'F']\n",
        "df_fem = df_fem.reset_index()\n",
        "\n",
        "df_mas = df[df['Sx'] == 'M']\n",
        "df_mas = df_mas.reset_index()"
      ],
      "execution_count": 0,
      "outputs": []
    },
    {
      "metadata": {
        "id": "Mi8Qf9B1j0pL",
        "colab_type": "code",
        "outputId": "4dd43318-3a57-4bba-efed-2015489e7592",
        "colab": {
          "base_uri": "https://localhost:8080/",
          "height": 204
        }
      },
      "cell_type": "code",
      "source": [
        "df_fem.tail()"
      ],
      "execution_count": 58,
      "outputs": [
        {
          "output_type": "execute_result",
          "data": {
            "text/html": [
              "<div>\n",
              "<style scoped>\n",
              "    .dataframe tbody tr th:only-of-type {\n",
              "        vertical-align: middle;\n",
              "    }\n",
              "\n",
              "    .dataframe tbody tr th {\n",
              "        vertical-align: top;\n",
              "    }\n",
              "\n",
              "    .dataframe thead th {\n",
              "        text-align: right;\n",
              "    }\n",
              "</style>\n",
              "<table border=\"1\" class=\"dataframe\">\n",
              "  <thead>\n",
              "    <tr style=\"text-align: right;\">\n",
              "      <th></th>\n",
              "      <th>index</th>\n",
              "      <th>Col</th>\n",
              "      <th>Num</th>\n",
              "      <th>Sx</th>\n",
              "      <th>Cat</th>\n",
              "      <th>Col.Cat</th>\n",
              "      <th>TempoEmSegundos</th>\n",
              "      <th>TempoEmMinutos</th>\n",
              "    </tr>\n",
              "  </thead>\n",
              "  <tbody>\n",
              "    <tr>\n",
              "      <th>175</th>\n",
              "      <td>489</td>\n",
              "      <td>490.0</td>\n",
              "      <td>2170</td>\n",
              "      <td>F</td>\n",
              "      <td>F40/44</td>\n",
              "      <td>29</td>\n",
              "      <td>5905</td>\n",
              "      <td>98.25</td>\n",
              "    </tr>\n",
              "    <tr>\n",
              "      <th>176</th>\n",
              "      <td>490</td>\n",
              "      <td>491.0</td>\n",
              "      <td>2413</td>\n",
              "      <td>F</td>\n",
              "      <td>F60/64</td>\n",
              "      <td>12</td>\n",
              "      <td>6854</td>\n",
              "      <td>114.14</td>\n",
              "    </tr>\n",
              "    <tr>\n",
              "      <th>177</th>\n",
              "      <td>491</td>\n",
              "      <td>492.0</td>\n",
              "      <td>2469</td>\n",
              "      <td>F</td>\n",
              "      <td>F60/64</td>\n",
              "      <td>13</td>\n",
              "      <td>9288</td>\n",
              "      <td>154.48</td>\n",
              "    </tr>\n",
              "    <tr>\n",
              "      <th>178</th>\n",
              "      <td>493</td>\n",
              "      <td>494.0</td>\n",
              "      <td>2291</td>\n",
              "      <td>F</td>\n",
              "      <td>F35/39</td>\n",
              "      <td>29</td>\n",
              "      <td>10276</td>\n",
              "      <td>171.16</td>\n",
              "    </tr>\n",
              "    <tr>\n",
              "      <th>179</th>\n",
              "      <td>494</td>\n",
              "      <td>495.0</td>\n",
              "      <td>2550</td>\n",
              "      <td>F</td>\n",
              "      <td>F35/39</td>\n",
              "      <td>30</td>\n",
              "      <td>10504</td>\n",
              "      <td>175.04</td>\n",
              "    </tr>\n",
              "  </tbody>\n",
              "</table>\n",
              "</div>"
            ],
            "text/plain": [
              "     index    Col   Num Sx     Cat  Col.Cat  TempoEmSegundos  TempoEmMinutos\n",
              "175    489  490.0  2170  F  F40/44       29             5905           98.25\n",
              "176    490  491.0  2413  F  F60/64       12             6854          114.14\n",
              "177    491  492.0  2469  F  F60/64       13             9288          154.48\n",
              "178    493  494.0  2291  F  F35/39       29            10276          171.16\n",
              "179    494  495.0  2550  F  F35/39       30            10504          175.04"
            ]
          },
          "metadata": {
            "tags": []
          },
          "execution_count": 58
        }
      ]
    },
    {
      "metadata": {
        "id": "3LdVD5SEjFil",
        "colab_type": "code",
        "outputId": "2d13fca3-8e93-4e91-8310-44dca39cada0",
        "colab": {
          "base_uri": "https://localhost:8080/",
          "height": 294
        }
      },
      "cell_type": "code",
      "source": [
        "sns.boxplot(palette=[\"m\", \"g\"], data=df_fem['TempoEmMinutos'])"
      ],
      "execution_count": 59,
      "outputs": [
        {
          "output_type": "execute_result",
          "data": {
            "text/plain": [
              "<matplotlib.axes._subplots.AxesSubplot at 0x7f5ee9acd4a8>"
            ]
          },
          "metadata": {
            "tags": []
          },
          "execution_count": 59
        },
        {
          "output_type": "display_data",
          "data": {
            "image/png": "[encoded data removed]",
            "text/plain": [
              "<matplotlib.figure.Figure at 0x7f5ee9a694e0>"
            ]
          },
          "metadata": {
            "tags": []
          }
        }
      ]
    },
    {
      "metadata": {
        "id": "nhPoInJFhif1",
        "colab_type": "code",
        "outputId": "49c6fbbf-ac76-4751-ed6e-4976dd806847",
        "colab": {
          "base_uri": "https://localhost:8080/",
          "height": 309
        }
      },
      "cell_type": "code",
      "source": [
        "sns.set_style('darkgrid')\n",
        "sns.distplot(df_mas['TempoEmMinutos'], bins=40)"
      ],
      "execution_count": 60,
      "outputs": [
        {
          "output_type": "execute_result",
          "data": {
            "text/plain": [
              "<matplotlib.axes._subplots.AxesSubplot at 0x7f5ee9fe1278>"
            ]
          },
          "metadata": {
            "tags": []
          },
          "execution_count": 60
        },
        {
          "output_type": "display_data",
          "data": {
            "image/png": "[encoded data removed]",
            "text/plain": [
              "<matplotlib.figure.Figure at 0x7f5ee9e96b38>"
            ]
          },
          "metadata": {
            "tags": []
          }
        }
      ]
    },
    {
      "metadata": {
        "id": "WTw43lRNkdDa",
        "colab_type": "code",
        "outputId": "1a1196a9-75e0-428d-88a3-6986dd7a15a1",
        "colab": {
          "base_uri": "https://localhost:8080/",
          "height": 810
        }
      },
      "cell_type": "code",
      "source": [
        "cats = sorted(list(df_fem['Cat'].unique()))\n",
        "f, ax = plt.subplots(figsize=(12, 6))\n",
        "plot = sns.catplot(x=\"Cat\", y=\"TempoEmSegundos\", kind=\"swarm\", order=cats, data=df_fem, ax=ax)\n",
        "plot"
      ],
      "execution_count": 61,
      "outputs": [
        {
          "output_type": "execute_result",
          "data": {
            "text/plain": [
              "<seaborn.axisgrid.FacetGrid at 0x7f5ee9912048>"
            ]
          },
          "metadata": {
            "tags": []
          },
          "execution_count": 61
        },
        {
          "output_type": "stream",
          "text": [
            "/usr/local/lib/python3.6/dist-packages/matplotlib/collections.py:590: FutureWarning: elementwise comparison failed; returning scalar instead, but in the future will perform elementwise comparison\n",
            "  if self._edgecolors == str('face'):\n"
          ],
          "name": "stderr"
        },
        {
          "output_type": "display_data",
          "data": {
            "image/png": "[encoded data removed]",
            "text/plain": [
              "<matplotlib.figure.Figure at 0x7f5ee99570b8>"
            ]
          },
          "metadata": {
            "tags": []
          }
        },
        {
          "output_type": "display_data",
          "data": {
            "image/png": "[encoded data removed]",
            "text/plain": [
              "<matplotlib.figure.Figure at 0x7f5ee98d0c50>"
            ]
          },
          "metadata": {
            "tags": []
          }
        }
      ]
    },
    {
      "metadata": {
        "id": "NBzscZTSpA3H",
        "colab_type": "code",
        "outputId": "b1b8a585-cc01-4a64-dd6a-bd04873e9b70",
        "colab": {
          "base_uri": "https://localhost:8080/",
          "height": 204
        }
      },
      "cell_type": "code",
      "source": [
        "df_mas.head()"
      ],
      "execution_count": 62,
      "outputs": [
        {
          "output_type": "execute_result",
          "data": {
            "text/html": [
              "<div>\n",
              "<style scoped>\n",
              "    .dataframe tbody tr th:only-of-type {\n",
              "        vertical-align: middle;\n",
              "    }\n",
              "\n",
              "    .dataframe tbody tr th {\n",
              "        vertical-align: top;\n",
              "    }\n",
              "\n",
              "    .dataframe thead th {\n",
              "        text-align: right;\n",
              "    }\n",
              "</style>\n",
              "<table border=\"1\" class=\"dataframe\">\n",
              "  <thead>\n",
              "    <tr style=\"text-align: right;\">\n",
              "      <th></th>\n",
              "      <th>index</th>\n",
              "      <th>Col</th>\n",
              "      <th>Num</th>\n",
              "      <th>Sx</th>\n",
              "      <th>Cat</th>\n",
              "      <th>Col.Cat</th>\n",
              "      <th>TempoEmSegundos</th>\n",
              "      <th>TempoEmMinutos</th>\n",
              "    </tr>\n",
              "  </thead>\n",
              "  <tbody>\n",
              "    <tr>\n",
              "      <th>0</th>\n",
              "      <td>0</td>\n",
              "      <td>1.0</td>\n",
              "      <td>2556</td>\n",
              "      <td>M</td>\n",
              "      <td>VENC.M</td>\n",
              "      <td>1</td>\n",
              "      <td>1596</td>\n",
              "      <td>26.36</td>\n",
              "    </tr>\n",
              "    <tr>\n",
              "      <th>1</th>\n",
              "      <td>1</td>\n",
              "      <td>2.0</td>\n",
              "      <td>2127</td>\n",
              "      <td>M</td>\n",
              "      <td>VENC.M</td>\n",
              "      <td>2</td>\n",
              "      <td>1624</td>\n",
              "      <td>27.04</td>\n",
              "    </tr>\n",
              "    <tr>\n",
              "      <th>2</th>\n",
              "      <td>2</td>\n",
              "      <td>3.0</td>\n",
              "      <td>2158</td>\n",
              "      <td>M</td>\n",
              "      <td>VENC.M</td>\n",
              "      <td>3</td>\n",
              "      <td>1657</td>\n",
              "      <td>27.37</td>\n",
              "    </tr>\n",
              "    <tr>\n",
              "      <th>3</th>\n",
              "      <td>3</td>\n",
              "      <td>4.0</td>\n",
              "      <td>2131</td>\n",
              "      <td>M</td>\n",
              "      <td>M30/34</td>\n",
              "      <td>1</td>\n",
              "      <td>1668</td>\n",
              "      <td>27.48</td>\n",
              "    </tr>\n",
              "    <tr>\n",
              "      <th>4</th>\n",
              "      <td>4</td>\n",
              "      <td>5.0</td>\n",
              "      <td>2300</td>\n",
              "      <td>M</td>\n",
              "      <td>M14/16</td>\n",
              "      <td>1</td>\n",
              "      <td>1671</td>\n",
              "      <td>27.51</td>\n",
              "    </tr>\n",
              "  </tbody>\n",
              "</table>\n",
              "</div>"
            ],
            "text/plain": [
              "   index  Col   Num Sx     Cat  Col.Cat  TempoEmSegundos  TempoEmMinutos\n",
              "0      0  1.0  2556  M  VENC.M        1             1596           26.36\n",
              "1      1  2.0  2127  M  VENC.M        2             1624           27.04\n",
              "2      2  3.0  2158  M  VENC.M        3             1657           27.37\n",
              "3      3  4.0  2131  M  M30/34        1             1668           27.48\n",
              "4      4  5.0  2300  M  M14/16        1             1671           27.51"
            ]
          },
          "metadata": {
            "tags": []
          },
          "execution_count": 62
        }
      ]
    },
    {
      "metadata": {
        "id": "hclWEVg7iFFV",
        "colab_type": "code",
        "outputId": "631bd20f-e747-4ba2-c335-e13fb1c3c9a3",
        "colab": {
          "base_uri": "https://localhost:8080/",
          "height": 810
        }
      },
      "cell_type": "code",
      "source": [
        "cats = sorted(list(df_mas['Cat'].unique()))\n",
        "\n",
        "f, ax = plt.subplots(figsize=(12,6))\n",
        "plot = sns.catplot(x=\"Cat\", y=\"TempoEmMinutos\", kind=\"swarm\", order=cats, data=df_mas, ax=ax)\n",
        "plot.set_xlabels(\"Categoria\")\n",
        "plot"
      ],
      "execution_count": 63,
      "outputs": [
        {
          "output_type": "execute_result",
          "data": {
            "text/plain": [
              "<seaborn.axisgrid.FacetGrid at 0x7f5ee97c2668>"
            ]
          },
          "metadata": {
            "tags": []
          },
          "execution_count": 63
        },
        {
          "output_type": "stream",
          "text": [
            "/usr/local/lib/python3.6/dist-packages/matplotlib/collections.py:590: FutureWarning: elementwise comparison failed; returning scalar instead, but in the future will perform elementwise comparison\n",
            "  if self._edgecolors == str('face'):\n"
          ],
          "name": "stderr"
        },
        {
          "output_type": "display_data",
          "data": {
            "image/png": "[encoded data removed]",
            "text/plain": [
              "<matplotlib.figure.Figure at 0x7f5ee9885d68>"
            ]
          },
          "metadata": {
            "tags": []
          }
        },
        {
          "output_type": "display_data",
          "data": {
            "image/png": "[encoded data removed]",
            "text/plain": [
              "<matplotlib.figure.Figure at 0x7f5ee97c2470>"
            ]
          },
          "metadata": {
            "tags": []
          }
        }
      ]
    },
    {
      "metadata": {
        "id": "DheUA5WuAFOd",
        "colab_type": "code",
        "colab": {}
      },
      "cell_type": "code",
      "source": [
        "df_mas['Categoria'] = df_mas['Cat'].apply(lambda s: s if s.startswith('V') else s[1:])\n",
        "df_fem['Categoria'] = df_fem['Cat'].apply(lambda s: s if s.startswith('V') else s[1:])"
      ],
      "execution_count": 0,
      "outputs": []
    },
    {
      "metadata": {
        "id": "7f_gVAkqr1WR",
        "colab_type": "code",
        "outputId": "fac7d1db-f755-435f-ec90-b7bfd886d623",
        "colab": {
          "base_uri": "https://localhost:8080/",
          "height": 545
        }
      },
      "cell_type": "code",
      "source": [
        "challange_mas_grouped = df_mas.groupby(['Categoria']).agg({'TempoEmMinutos': ['size','mean']})\n",
        "challange_fem_grouped = df_fem.groupby(['Categoria']).agg({'TempoEmMinutos': ['size','mean']})\n",
        "challange_mas_grouped"
      ],
      "execution_count": 65,
      "outputs": [
        {
          "output_type": "execute_result",
          "data": {
            "text/html": [
              "<div>\n",
              "<style scoped>\n",
              "    .dataframe tbody tr th:only-of-type {\n",
              "        vertical-align: middle;\n",
              "    }\n",
              "\n",
              "    .dataframe tbody tr th {\n",
              "        vertical-align: top;\n",
              "    }\n",
              "\n",
              "    .dataframe thead tr th {\n",
              "        text-align: left;\n",
              "    }\n",
              "\n",
              "    .dataframe thead tr:last-of-type th {\n",
              "        text-align: right;\n",
              "    }\n",
              "</style>\n",
              "<table border=\"1\" class=\"dataframe\">\n",
              "  <thead>\n",
              "    <tr>\n",
              "      <th></th>\n",
              "      <th colspan=\"2\" halign=\"left\">TempoEmMinutos</th>\n",
              "    </tr>\n",
              "    <tr>\n",
              "      <th></th>\n",
              "      <th>size</th>\n",
              "      <th>mean</th>\n",
              "    </tr>\n",
              "    <tr>\n",
              "      <th>Categoria</th>\n",
              "      <th></th>\n",
              "      <th></th>\n",
              "    </tr>\n",
              "  </thead>\n",
              "  <tbody>\n",
              "    <tr>\n",
              "      <th>14/16</th>\n",
              "      <td>4</td>\n",
              "      <td>31.177500</td>\n",
              "    </tr>\n",
              "    <tr>\n",
              "      <th>17/19</th>\n",
              "      <td>7</td>\n",
              "      <td>39.092857</td>\n",
              "    </tr>\n",
              "    <tr>\n",
              "      <th>20/24</th>\n",
              "      <td>9</td>\n",
              "      <td>43.391111</td>\n",
              "    </tr>\n",
              "    <tr>\n",
              "      <th>25/29</th>\n",
              "      <td>31</td>\n",
              "      <td>43.601613</td>\n",
              "    </tr>\n",
              "    <tr>\n",
              "      <th>30/34</th>\n",
              "      <td>39</td>\n",
              "      <td>44.488974</td>\n",
              "    </tr>\n",
              "    <tr>\n",
              "      <th>35/39</th>\n",
              "      <td>53</td>\n",
              "      <td>52.840000</td>\n",
              "    </tr>\n",
              "    <tr>\n",
              "      <th>40/44</th>\n",
              "      <td>53</td>\n",
              "      <td>47.704151</td>\n",
              "    </tr>\n",
              "    <tr>\n",
              "      <th>45/49</th>\n",
              "      <td>35</td>\n",
              "      <td>50.253143</td>\n",
              "    </tr>\n",
              "    <tr>\n",
              "      <th>50/54</th>\n",
              "      <td>33</td>\n",
              "      <td>50.243939</td>\n",
              "    </tr>\n",
              "    <tr>\n",
              "      <th>55/59</th>\n",
              "      <td>19</td>\n",
              "      <td>51.264211</td>\n",
              "    </tr>\n",
              "    <tr>\n",
              "      <th>60/64</th>\n",
              "      <td>14</td>\n",
              "      <td>45.957857</td>\n",
              "    </tr>\n",
              "    <tr>\n",
              "      <th>65/69</th>\n",
              "      <td>9</td>\n",
              "      <td>51.092222</td>\n",
              "    </tr>\n",
              "    <tr>\n",
              "      <th>70+</th>\n",
              "      <td>7</td>\n",
              "      <td>55.867143</td>\n",
              "    </tr>\n",
              "    <tr>\n",
              "      <th>VENC.M</th>\n",
              "      <td>3</td>\n",
              "      <td>26.923333</td>\n",
              "    </tr>\n",
              "  </tbody>\n",
              "</table>\n",
              "</div>"
            ],
            "text/plain": [
              "          TempoEmMinutos           \n",
              "                    size       mean\n",
              "Categoria                          \n",
              "14/16                  4  31.177500\n",
              "17/19                  7  39.092857\n",
              "20/24                  9  43.391111\n",
              "25/29                 31  43.601613\n",
              "30/34                 39  44.488974\n",
              "35/39                 53  52.840000\n",
              "40/44                 53  47.704151\n",
              "45/49                 35  50.253143\n",
              "50/54                 33  50.243939\n",
              "55/59                 19  51.264211\n",
              "60/64                 14  45.957857\n",
              "65/69                  9  51.092222\n",
              "70+                    7  55.867143\n",
              "VENC.M                 3  26.923333"
            ]
          },
          "metadata": {
            "tags": []
          },
          "execution_count": 65
        }
      ]
    },
    {
      "metadata": {
        "id": "HGCZ3z2AEB7-",
        "colab_type": "code",
        "colab": {}
      },
      "cell_type": "code",
      "source": [
        "challange_mas_grouped.rename(columns={'size':'Qtd(M)','mean':'Tempo media(M)'},inplace=True)\n",
        "challange_fem_grouped.rename(columns={'size':'Qtd(F)','mean':'Tempo media(F)'},inplace=True)\n",
        "\n",
        "df_new = pd.concat([challange_mas_grouped, challange_fem_grouped], axis=1)\n",
        "df_new.columns = df_new.columns.droplevel(0)\n",
        "\n",
        "df_new['Qtd(M)'] = df_new['Qtd(M)'].fillna(0.0).astype(int)\n",
        "df_new['Qtd(F)'] = df_new['Qtd(F)'].fillna(0.0).astype(int)\n",
        "\n",
        "df_new['Tempo media(M)'] = df_new['Tempo media(M)'].fillna(0.0).astype(int)\n",
        "df_new['Tempo media(F)'] = df_new['Tempo media(F)'].fillna(0.0).astype(int)\n"
      ],
      "execution_count": 0,
      "outputs": []
    },
    {
      "metadata": {
        "id": "w0_3Rj1f9Yyk",
        "colab_type": "code",
        "colab": {}
      },
      "cell_type": "code",
      "source": [
        "total = 591\n",
        "completaram = df.shape[0]\n",
        "percent_compl = round(completaram / total * 100,2)"
      ],
      "execution_count": 0,
      "outputs": []
    },
    {
      "metadata": {
        "id": "cqGysydWC4q8",
        "colab_type": "code",
        "colab": {}
      },
      "cell_type": "code",
      "source": [
        "group_sx = df['Sx'].value_counts()\n",
        "qtd_masc = group_sx[0]\n",
        "qtd_fem = group_sx[1]\n",
        "percent_masc = round(qtd_masc / total * 100,2)\n",
        "percent_fem = round(qtd_fem / total * 100,2)"
      ],
      "execution_count": 0,
      "outputs": []
    },
    {
      "metadata": {
        "id": "AIZK17WBJ4G4",
        "colab_type": "code",
        "outputId": "4aa47ef2-65f2-43aa-92bc-8f966f803f21",
        "colab": {
          "base_uri": "https://localhost:8080/",
          "height": 34
        }
      },
      "cell_type": "code",
      "source": [
        "df['TempoEmMinutos'].mean().round(2)"
      ],
      "execution_count": 75,
      "outputs": [
        {
          "output_type": "execute_result",
          "data": {
            "text/plain": [
              "50.75"
            ]
          },
          "metadata": {
            "tags": []
          },
          "execution_count": 75
        }
      ]
    },
    {
      "metadata": {
        "id": "dpRUIRgcICgG",
        "colab_type": "code",
        "outputId": "c5a8be59-8910-4a89-c25c-8648c0ab5ba0",
        "colab": {
          "base_uri": "https://localhost:8080/",
          "height": 34
        }
      },
      "cell_type": "code",
      "source": [
        "df_tempo = df.groupby('Sx')['TempoEmMinutos'].mean().round(2)\n",
        "tempo_media_masc = df_tempo[1]\n",
        "tempo_media_fem  = df_tempo[0]\n",
        "tempo_geral = df['TempoEmMinutos'].mean().round(2)\n",
        "\n",
        "tempo_media_fem"
      ],
      "execution_count": 76,
      "outputs": [
        {
          "output_type": "execute_result",
          "data": {
            "text/plain": [
              "55.56"
            ]
          },
          "metadata": {
            "tags": []
          },
          "execution_count": 76
        }
      ]
    },
    {
      "metadata": {
        "id": "N1UTu4CrEUQM",
        "colab_type": "code",
        "outputId": "b444a94f-00c2-4e2d-b842-087e071b386b",
        "colab": {
          "base_uri": "https://localhost:8080/",
          "height": 616
        }
      },
      "cell_type": "code",
      "source": [
        "print(f\"Prova Classic - 2.0 km - Copacabana - 22/12/2018\")\n",
        "print(f\"Participantes: {total} / Completaram: {completaram} ({percent_compl}%)\")\n",
        "print(f\"Qtd por sexo: {qtd_fem} ({percent_fem}%) (F) / {qtd_masc} ({percent_masc}%) (M)\")\n",
        "print(f\"Tempo media (Minutos): {tempo_media_fem} (F) / {tempo_media_masc} (M), {tempo_geral} (Geral)\")\n",
        "print()\n",
        "print(\"Por categoria, dividido entre homens (M) e mulheres (F)\")\n",
        "df_new"
      ],
      "execution_count": 77,
      "outputs": [
        {
          "output_type": "stream",
          "text": [
            "Prova Classic - 2.0 km - Copacabana - 22/12/2018\n",
            "Participantes: 591 / Completaram: 496 (83.93%)\n",
            "Qtd por sexo: 180 (30.46%) (F) / 316 (53.47%) (M)\n",
            "Tempo media (Minutos): 55.56 (F) / 48.01 (M), 50.75 (Geral)\n",
            "\n",
            "Por categoria, dividido entre homens (M) e mulheres (F)\n"
          ],
          "name": "stdout"
        },
        {
          "output_type": "execute_result",
          "data": {
            "text/html": [
              "<div>\n",
              "<style scoped>\n",
              "    .dataframe tbody tr th:only-of-type {\n",
              "        vertical-align: middle;\n",
              "    }\n",
              "\n",
              "    .dataframe tbody tr th {\n",
              "        vertical-align: top;\n",
              "    }\n",
              "\n",
              "    .dataframe thead th {\n",
              "        text-align: right;\n",
              "    }\n",
              "</style>\n",
              "<table border=\"1\" class=\"dataframe\">\n",
              "  <thead>\n",
              "    <tr style=\"text-align: right;\">\n",
              "      <th></th>\n",
              "      <th>Qtd(M)</th>\n",
              "      <th>Tempo media(M)</th>\n",
              "      <th>Qtd(F)</th>\n",
              "      <th>Tempo media(F)</th>\n",
              "    </tr>\n",
              "  </thead>\n",
              "  <tbody>\n",
              "    <tr>\n",
              "      <th>14/16</th>\n",
              "      <td>4</td>\n",
              "      <td>31</td>\n",
              "      <td>6</td>\n",
              "      <td>45</td>\n",
              "    </tr>\n",
              "    <tr>\n",
              "      <th>17/19</th>\n",
              "      <td>7</td>\n",
              "      <td>39</td>\n",
              "      <td>4</td>\n",
              "      <td>54</td>\n",
              "    </tr>\n",
              "    <tr>\n",
              "      <th>20/24</th>\n",
              "      <td>9</td>\n",
              "      <td>43</td>\n",
              "      <td>8</td>\n",
              "      <td>47</td>\n",
              "    </tr>\n",
              "    <tr>\n",
              "      <th>25/29</th>\n",
              "      <td>31</td>\n",
              "      <td>43</td>\n",
              "      <td>15</td>\n",
              "      <td>47</td>\n",
              "    </tr>\n",
              "    <tr>\n",
              "      <th>30/34</th>\n",
              "      <td>39</td>\n",
              "      <td>44</td>\n",
              "      <td>17</td>\n",
              "      <td>52</td>\n",
              "    </tr>\n",
              "    <tr>\n",
              "      <th>35/39</th>\n",
              "      <td>53</td>\n",
              "      <td>52</td>\n",
              "      <td>30</td>\n",
              "      <td>61</td>\n",
              "    </tr>\n",
              "    <tr>\n",
              "      <th>40/44</th>\n",
              "      <td>53</td>\n",
              "      <td>47</td>\n",
              "      <td>29</td>\n",
              "      <td>55</td>\n",
              "    </tr>\n",
              "    <tr>\n",
              "      <th>45/49</th>\n",
              "      <td>35</td>\n",
              "      <td>50</td>\n",
              "      <td>19</td>\n",
              "      <td>53</td>\n",
              "    </tr>\n",
              "    <tr>\n",
              "      <th>50/54</th>\n",
              "      <td>33</td>\n",
              "      <td>50</td>\n",
              "      <td>23</td>\n",
              "      <td>56</td>\n",
              "    </tr>\n",
              "    <tr>\n",
              "      <th>55/59</th>\n",
              "      <td>19</td>\n",
              "      <td>51</td>\n",
              "      <td>10</td>\n",
              "      <td>58</td>\n",
              "    </tr>\n",
              "    <tr>\n",
              "      <th>60/64</th>\n",
              "      <td>14</td>\n",
              "      <td>45</td>\n",
              "      <td>13</td>\n",
              "      <td>71</td>\n",
              "    </tr>\n",
              "    <tr>\n",
              "      <th>65/69</th>\n",
              "      <td>9</td>\n",
              "      <td>51</td>\n",
              "      <td>1</td>\n",
              "      <td>58</td>\n",
              "    </tr>\n",
              "    <tr>\n",
              "      <th>70+</th>\n",
              "      <td>7</td>\n",
              "      <td>55</td>\n",
              "      <td>2</td>\n",
              "      <td>56</td>\n",
              "    </tr>\n",
              "    <tr>\n",
              "      <th>VENC.F</th>\n",
              "      <td>0</td>\n",
              "      <td>0</td>\n",
              "      <td>3</td>\n",
              "      <td>32</td>\n",
              "    </tr>\n",
              "    <tr>\n",
              "      <th>VENC.M</th>\n",
              "      <td>3</td>\n",
              "      <td>26</td>\n",
              "      <td>0</td>\n",
              "      <td>0</td>\n",
              "    </tr>\n",
              "  </tbody>\n",
              "</table>\n",
              "</div>"
            ],
            "text/plain": [
              "        Qtd(M)  Tempo media(M)  Qtd(F)  Tempo media(F)\n",
              "14/16        4              31       6              45\n",
              "17/19        7              39       4              54\n",
              "20/24        9              43       8              47\n",
              "25/29       31              43      15              47\n",
              "30/34       39              44      17              52\n",
              "35/39       53              52      30              61\n",
              "40/44       53              47      29              55\n",
              "45/49       35              50      19              53\n",
              "50/54       33              50      23              56\n",
              "55/59       19              51      10              58\n",
              "60/64       14              45      13              71\n",
              "65/69        9              51       1              58\n",
              "70+          7              55       2              56\n",
              "VENC.F       0               0       3              32\n",
              "VENC.M       3              26       0               0"
            ]
          },
          "metadata": {
            "tags": []
          },
          "execution_count": 77
        }
      ]
    },
    {
      "metadata": {
        "id": "DHbNW4BZ8eDz",
        "colab_type": "code",
        "colab": {}
      },
      "cell_type": "code",
      "source": [
        ""
      ],
      "execution_count": 0,
      "outputs": []
    }
  ]
}